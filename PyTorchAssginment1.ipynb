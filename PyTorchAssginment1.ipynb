{
  "nbformat": 4,
  "nbformat_minor": 0,
  "metadata": {
    "colab": {
      "name": "PyTorchAssginment1.ipynb",
      "provenance": [],
      "collapsed_sections": [],
      "authorship_tag": "ABX9TyOfRN7+upGfynXf7E8PC8/F",
      "include_colab_link": true
    },
    "kernelspec": {
      "name": "python3",
      "display_name": "Python 3"
    },
    "language_info": {
      "name": "python"
    },
    "widgets": {
      "application/vnd.jupyter.widget-state+json": {
        "10f430af1284492f8e557f96991aa9ef": {
          "model_module": "@jupyter-widgets/controls",
          "model_name": "HBoxModel",
          "model_module_version": "1.5.0",
          "state": {
            "_view_name": "HBoxView",
            "_dom_classes": [],
            "_model_name": "HBoxModel",
            "_view_module": "@jupyter-widgets/controls",
            "_model_module_version": "1.5.0",
            "_view_count": null,
            "_view_module_version": "1.5.0",
            "box_style": "",
            "layout": "IPY_MODEL_f33579867d4f4bde94430e741cbca784",
            "_model_module": "@jupyter-widgets/controls",
            "children": [
              "IPY_MODEL_ee7e53cd3ffd45148ef80835906eed9d",
              "IPY_MODEL_8dd389352d5048f293f0863881c97b86",
              "IPY_MODEL_3166aa15713f40bfa04215cd1d60c39e"
            ]
          }
        },
        "f33579867d4f4bde94430e741cbca784": {
          "model_module": "@jupyter-widgets/base",
          "model_name": "LayoutModel",
          "model_module_version": "1.2.0",
          "state": {
            "_view_name": "LayoutView",
            "grid_template_rows": null,
            "right": null,
            "justify_content": null,
            "_view_module": "@jupyter-widgets/base",
            "overflow": null,
            "_model_module_version": "1.2.0",
            "_view_count": null,
            "flex_flow": null,
            "width": null,
            "min_width": null,
            "border": null,
            "align_items": null,
            "bottom": null,
            "_model_module": "@jupyter-widgets/base",
            "top": null,
            "grid_column": null,
            "overflow_y": null,
            "overflow_x": null,
            "grid_auto_flow": null,
            "grid_area": null,
            "grid_template_columns": null,
            "flex": null,
            "_model_name": "LayoutModel",
            "justify_items": null,
            "grid_row": null,
            "max_height": null,
            "align_content": null,
            "visibility": null,
            "align_self": null,
            "height": null,
            "min_height": null,
            "padding": null,
            "grid_auto_rows": null,
            "grid_gap": null,
            "max_width": null,
            "order": null,
            "_view_module_version": "1.2.0",
            "grid_template_areas": null,
            "object_position": null,
            "object_fit": null,
            "grid_auto_columns": null,
            "margin": null,
            "display": null,
            "left": null
          }
        },
        "ee7e53cd3ffd45148ef80835906eed9d": {
          "model_module": "@jupyter-widgets/controls",
          "model_name": "HTMLModel",
          "model_module_version": "1.5.0",
          "state": {
            "_view_name": "HTMLView",
            "style": "IPY_MODEL_b2f731d116584237ae5868dc9a816f40",
            "_dom_classes": [],
            "description": "",
            "_model_name": "HTMLModel",
            "placeholder": "​",
            "_view_module": "@jupyter-widgets/controls",
            "_model_module_version": "1.5.0",
            "value": "",
            "_view_count": null,
            "_view_module_version": "1.5.0",
            "description_tooltip": null,
            "_model_module": "@jupyter-widgets/controls",
            "layout": "IPY_MODEL_2a5e5153c4294d289c6701ff5f88406c"
          }
        },
        "8dd389352d5048f293f0863881c97b86": {
          "model_module": "@jupyter-widgets/controls",
          "model_name": "FloatProgressModel",
          "model_module_version": "1.5.0",
          "state": {
            "_view_name": "ProgressView",
            "style": "IPY_MODEL_c1d2ceb086ee431897c970eec455b023",
            "_dom_classes": [],
            "description": "",
            "_model_name": "FloatProgressModel",
            "bar_style": "success",
            "max": 9912422,
            "_view_module": "@jupyter-widgets/controls",
            "_model_module_version": "1.5.0",
            "value": 9912422,
            "_view_count": null,
            "_view_module_version": "1.5.0",
            "orientation": "horizontal",
            "min": 0,
            "description_tooltip": null,
            "_model_module": "@jupyter-widgets/controls",
            "layout": "IPY_MODEL_d2f31519167a4e3d888f360b034405c4"
          }
        },
        "3166aa15713f40bfa04215cd1d60c39e": {
          "model_module": "@jupyter-widgets/controls",
          "model_name": "HTMLModel",
          "model_module_version": "1.5.0",
          "state": {
            "_view_name": "HTMLView",
            "style": "IPY_MODEL_4ce8bb65896f47a68b3d11f0272f8f80",
            "_dom_classes": [],
            "description": "",
            "_model_name": "HTMLModel",
            "placeholder": "​",
            "_view_module": "@jupyter-widgets/controls",
            "_model_module_version": "1.5.0",
            "value": " 9913344/? [00:00&lt;00:00, 11449044.39it/s]",
            "_view_count": null,
            "_view_module_version": "1.5.0",
            "description_tooltip": null,
            "_model_module": "@jupyter-widgets/controls",
            "layout": "IPY_MODEL_700b46b06cba4d27b32f7c3d69ae8102"
          }
        },
        "b2f731d116584237ae5868dc9a816f40": {
          "model_module": "@jupyter-widgets/controls",
          "model_name": "DescriptionStyleModel",
          "model_module_version": "1.5.0",
          "state": {
            "_view_name": "StyleView",
            "_model_name": "DescriptionStyleModel",
            "description_width": "",
            "_view_module": "@jupyter-widgets/base",
            "_model_module_version": "1.5.0",
            "_view_count": null,
            "_view_module_version": "1.2.0",
            "_model_module": "@jupyter-widgets/controls"
          }
        },
        "2a5e5153c4294d289c6701ff5f88406c": {
          "model_module": "@jupyter-widgets/base",
          "model_name": "LayoutModel",
          "model_module_version": "1.2.0",
          "state": {
            "_view_name": "LayoutView",
            "grid_template_rows": null,
            "right": null,
            "justify_content": null,
            "_view_module": "@jupyter-widgets/base",
            "overflow": null,
            "_model_module_version": "1.2.0",
            "_view_count": null,
            "flex_flow": null,
            "width": null,
            "min_width": null,
            "border": null,
            "align_items": null,
            "bottom": null,
            "_model_module": "@jupyter-widgets/base",
            "top": null,
            "grid_column": null,
            "overflow_y": null,
            "overflow_x": null,
            "grid_auto_flow": null,
            "grid_area": null,
            "grid_template_columns": null,
            "flex": null,
            "_model_name": "LayoutModel",
            "justify_items": null,
            "grid_row": null,
            "max_height": null,
            "align_content": null,
            "visibility": null,
            "align_self": null,
            "height": null,
            "min_height": null,
            "padding": null,
            "grid_auto_rows": null,
            "grid_gap": null,
            "max_width": null,
            "order": null,
            "_view_module_version": "1.2.0",
            "grid_template_areas": null,
            "object_position": null,
            "object_fit": null,
            "grid_auto_columns": null,
            "margin": null,
            "display": null,
            "left": null
          }
        },
        "c1d2ceb086ee431897c970eec455b023": {
          "model_module": "@jupyter-widgets/controls",
          "model_name": "ProgressStyleModel",
          "model_module_version": "1.5.0",
          "state": {
            "_view_name": "StyleView",
            "_model_name": "ProgressStyleModel",
            "description_width": "",
            "_view_module": "@jupyter-widgets/base",
            "_model_module_version": "1.5.0",
            "_view_count": null,
            "_view_module_version": "1.2.0",
            "bar_color": null,
            "_model_module": "@jupyter-widgets/controls"
          }
        },
        "d2f31519167a4e3d888f360b034405c4": {
          "model_module": "@jupyter-widgets/base",
          "model_name": "LayoutModel",
          "model_module_version": "1.2.0",
          "state": {
            "_view_name": "LayoutView",
            "grid_template_rows": null,
            "right": null,
            "justify_content": null,
            "_view_module": "@jupyter-widgets/base",
            "overflow": null,
            "_model_module_version": "1.2.0",
            "_view_count": null,
            "flex_flow": null,
            "width": null,
            "min_width": null,
            "border": null,
            "align_items": null,
            "bottom": null,
            "_model_module": "@jupyter-widgets/base",
            "top": null,
            "grid_column": null,
            "overflow_y": null,
            "overflow_x": null,
            "grid_auto_flow": null,
            "grid_area": null,
            "grid_template_columns": null,
            "flex": null,
            "_model_name": "LayoutModel",
            "justify_items": null,
            "grid_row": null,
            "max_height": null,
            "align_content": null,
            "visibility": null,
            "align_self": null,
            "height": null,
            "min_height": null,
            "padding": null,
            "grid_auto_rows": null,
            "grid_gap": null,
            "max_width": null,
            "order": null,
            "_view_module_version": "1.2.0",
            "grid_template_areas": null,
            "object_position": null,
            "object_fit": null,
            "grid_auto_columns": null,
            "margin": null,
            "display": null,
            "left": null
          }
        },
        "4ce8bb65896f47a68b3d11f0272f8f80": {
          "model_module": "@jupyter-widgets/controls",
          "model_name": "DescriptionStyleModel",
          "model_module_version": "1.5.0",
          "state": {
            "_view_name": "StyleView",
            "_model_name": "DescriptionStyleModel",
            "description_width": "",
            "_view_module": "@jupyter-widgets/base",
            "_model_module_version": "1.5.0",
            "_view_count": null,
            "_view_module_version": "1.2.0",
            "_model_module": "@jupyter-widgets/controls"
          }
        },
        "700b46b06cba4d27b32f7c3d69ae8102": {
          "model_module": "@jupyter-widgets/base",
          "model_name": "LayoutModel",
          "model_module_version": "1.2.0",
          "state": {
            "_view_name": "LayoutView",
            "grid_template_rows": null,
            "right": null,
            "justify_content": null,
            "_view_module": "@jupyter-widgets/base",
            "overflow": null,
            "_model_module_version": "1.2.0",
            "_view_count": null,
            "flex_flow": null,
            "width": null,
            "min_width": null,
            "border": null,
            "align_items": null,
            "bottom": null,
            "_model_module": "@jupyter-widgets/base",
            "top": null,
            "grid_column": null,
            "overflow_y": null,
            "overflow_x": null,
            "grid_auto_flow": null,
            "grid_area": null,
            "grid_template_columns": null,
            "flex": null,
            "_model_name": "LayoutModel",
            "justify_items": null,
            "grid_row": null,
            "max_height": null,
            "align_content": null,
            "visibility": null,
            "align_self": null,
            "height": null,
            "min_height": null,
            "padding": null,
            "grid_auto_rows": null,
            "grid_gap": null,
            "max_width": null,
            "order": null,
            "_view_module_version": "1.2.0",
            "grid_template_areas": null,
            "object_position": null,
            "object_fit": null,
            "grid_auto_columns": null,
            "margin": null,
            "display": null,
            "left": null
          }
        },
        "2571528c273f4595835c689526239380": {
          "model_module": "@jupyter-widgets/controls",
          "model_name": "HBoxModel",
          "model_module_version": "1.5.0",
          "state": {
            "_view_name": "HBoxView",
            "_dom_classes": [],
            "_model_name": "HBoxModel",
            "_view_module": "@jupyter-widgets/controls",
            "_model_module_version": "1.5.0",
            "_view_count": null,
            "_view_module_version": "1.5.0",
            "box_style": "",
            "layout": "IPY_MODEL_243e0a9b3b064d74b8e1b5ebc3e0f69f",
            "_model_module": "@jupyter-widgets/controls",
            "children": [
              "IPY_MODEL_834b102cd3df42ba81e47e2b1ee8fb57",
              "IPY_MODEL_36176f68938a4654b8fd6c589b87d274",
              "IPY_MODEL_2505289878da4c2aa386ea73746bb5eb"
            ]
          }
        },
        "243e0a9b3b064d74b8e1b5ebc3e0f69f": {
          "model_module": "@jupyter-widgets/base",
          "model_name": "LayoutModel",
          "model_module_version": "1.2.0",
          "state": {
            "_view_name": "LayoutView",
            "grid_template_rows": null,
            "right": null,
            "justify_content": null,
            "_view_module": "@jupyter-widgets/base",
            "overflow": null,
            "_model_module_version": "1.2.0",
            "_view_count": null,
            "flex_flow": null,
            "width": null,
            "min_width": null,
            "border": null,
            "align_items": null,
            "bottom": null,
            "_model_module": "@jupyter-widgets/base",
            "top": null,
            "grid_column": null,
            "overflow_y": null,
            "overflow_x": null,
            "grid_auto_flow": null,
            "grid_area": null,
            "grid_template_columns": null,
            "flex": null,
            "_model_name": "LayoutModel",
            "justify_items": null,
            "grid_row": null,
            "max_height": null,
            "align_content": null,
            "visibility": null,
            "align_self": null,
            "height": null,
            "min_height": null,
            "padding": null,
            "grid_auto_rows": null,
            "grid_gap": null,
            "max_width": null,
            "order": null,
            "_view_module_version": "1.2.0",
            "grid_template_areas": null,
            "object_position": null,
            "object_fit": null,
            "grid_auto_columns": null,
            "margin": null,
            "display": null,
            "left": null
          }
        },
        "834b102cd3df42ba81e47e2b1ee8fb57": {
          "model_module": "@jupyter-widgets/controls",
          "model_name": "HTMLModel",
          "model_module_version": "1.5.0",
          "state": {
            "_view_name": "HTMLView",
            "style": "IPY_MODEL_d12911fc040c4545bcbff28dfffed465",
            "_dom_classes": [],
            "description": "",
            "_model_name": "HTMLModel",
            "placeholder": "​",
            "_view_module": "@jupyter-widgets/controls",
            "_model_module_version": "1.5.0",
            "value": "",
            "_view_count": null,
            "_view_module_version": "1.5.0",
            "description_tooltip": null,
            "_model_module": "@jupyter-widgets/controls",
            "layout": "IPY_MODEL_3206d58c0bd14ba4a46b28884fbf0815"
          }
        },
        "36176f68938a4654b8fd6c589b87d274": {
          "model_module": "@jupyter-widgets/controls",
          "model_name": "FloatProgressModel",
          "model_module_version": "1.5.0",
          "state": {
            "_view_name": "ProgressView",
            "style": "IPY_MODEL_fc577d2999be47428c3635d02636f825",
            "_dom_classes": [],
            "description": "",
            "_model_name": "FloatProgressModel",
            "bar_style": "success",
            "max": 28881,
            "_view_module": "@jupyter-widgets/controls",
            "_model_module_version": "1.5.0",
            "value": 28881,
            "_view_count": null,
            "_view_module_version": "1.5.0",
            "orientation": "horizontal",
            "min": 0,
            "description_tooltip": null,
            "_model_module": "@jupyter-widgets/controls",
            "layout": "IPY_MODEL_96857ca4893a495b81855a50f0f2657d"
          }
        },
        "2505289878da4c2aa386ea73746bb5eb": {
          "model_module": "@jupyter-widgets/controls",
          "model_name": "HTMLModel",
          "model_module_version": "1.5.0",
          "state": {
            "_view_name": "HTMLView",
            "style": "IPY_MODEL_e0cbf0895a374ca496eaf820a37f7369",
            "_dom_classes": [],
            "description": "",
            "_model_name": "HTMLModel",
            "placeholder": "​",
            "_view_module": "@jupyter-widgets/controls",
            "_model_module_version": "1.5.0",
            "value": " 29696/? [00:00&lt;00:00, 497587.26it/s]",
            "_view_count": null,
            "_view_module_version": "1.5.0",
            "description_tooltip": null,
            "_model_module": "@jupyter-widgets/controls",
            "layout": "IPY_MODEL_4125af10a4e04abda06abdd1c4e8fb5f"
          }
        },
        "d12911fc040c4545bcbff28dfffed465": {
          "model_module": "@jupyter-widgets/controls",
          "model_name": "DescriptionStyleModel",
          "model_module_version": "1.5.0",
          "state": {
            "_view_name": "StyleView",
            "_model_name": "DescriptionStyleModel",
            "description_width": "",
            "_view_module": "@jupyter-widgets/base",
            "_model_module_version": "1.5.0",
            "_view_count": null,
            "_view_module_version": "1.2.0",
            "_model_module": "@jupyter-widgets/controls"
          }
        },
        "3206d58c0bd14ba4a46b28884fbf0815": {
          "model_module": "@jupyter-widgets/base",
          "model_name": "LayoutModel",
          "model_module_version": "1.2.0",
          "state": {
            "_view_name": "LayoutView",
            "grid_template_rows": null,
            "right": null,
            "justify_content": null,
            "_view_module": "@jupyter-widgets/base",
            "overflow": null,
            "_model_module_version": "1.2.0",
            "_view_count": null,
            "flex_flow": null,
            "width": null,
            "min_width": null,
            "border": null,
            "align_items": null,
            "bottom": null,
            "_model_module": "@jupyter-widgets/base",
            "top": null,
            "grid_column": null,
            "overflow_y": null,
            "overflow_x": null,
            "grid_auto_flow": null,
            "grid_area": null,
            "grid_template_columns": null,
            "flex": null,
            "_model_name": "LayoutModel",
            "justify_items": null,
            "grid_row": null,
            "max_height": null,
            "align_content": null,
            "visibility": null,
            "align_self": null,
            "height": null,
            "min_height": null,
            "padding": null,
            "grid_auto_rows": null,
            "grid_gap": null,
            "max_width": null,
            "order": null,
            "_view_module_version": "1.2.0",
            "grid_template_areas": null,
            "object_position": null,
            "object_fit": null,
            "grid_auto_columns": null,
            "margin": null,
            "display": null,
            "left": null
          }
        },
        "fc577d2999be47428c3635d02636f825": {
          "model_module": "@jupyter-widgets/controls",
          "model_name": "ProgressStyleModel",
          "model_module_version": "1.5.0",
          "state": {
            "_view_name": "StyleView",
            "_model_name": "ProgressStyleModel",
            "description_width": "",
            "_view_module": "@jupyter-widgets/base",
            "_model_module_version": "1.5.0",
            "_view_count": null,
            "_view_module_version": "1.2.0",
            "bar_color": null,
            "_model_module": "@jupyter-widgets/controls"
          }
        },
        "96857ca4893a495b81855a50f0f2657d": {
          "model_module": "@jupyter-widgets/base",
          "model_name": "LayoutModel",
          "model_module_version": "1.2.0",
          "state": {
            "_view_name": "LayoutView",
            "grid_template_rows": null,
            "right": null,
            "justify_content": null,
            "_view_module": "@jupyter-widgets/base",
            "overflow": null,
            "_model_module_version": "1.2.0",
            "_view_count": null,
            "flex_flow": null,
            "width": null,
            "min_width": null,
            "border": null,
            "align_items": null,
            "bottom": null,
            "_model_module": "@jupyter-widgets/base",
            "top": null,
            "grid_column": null,
            "overflow_y": null,
            "overflow_x": null,
            "grid_auto_flow": null,
            "grid_area": null,
            "grid_template_columns": null,
            "flex": null,
            "_model_name": "LayoutModel",
            "justify_items": null,
            "grid_row": null,
            "max_height": null,
            "align_content": null,
            "visibility": null,
            "align_self": null,
            "height": null,
            "min_height": null,
            "padding": null,
            "grid_auto_rows": null,
            "grid_gap": null,
            "max_width": null,
            "order": null,
            "_view_module_version": "1.2.0",
            "grid_template_areas": null,
            "object_position": null,
            "object_fit": null,
            "grid_auto_columns": null,
            "margin": null,
            "display": null,
            "left": null
          }
        },
        "e0cbf0895a374ca496eaf820a37f7369": {
          "model_module": "@jupyter-widgets/controls",
          "model_name": "DescriptionStyleModel",
          "model_module_version": "1.5.0",
          "state": {
            "_view_name": "StyleView",
            "_model_name": "DescriptionStyleModel",
            "description_width": "",
            "_view_module": "@jupyter-widgets/base",
            "_model_module_version": "1.5.0",
            "_view_count": null,
            "_view_module_version": "1.2.0",
            "_model_module": "@jupyter-widgets/controls"
          }
        },
        "4125af10a4e04abda06abdd1c4e8fb5f": {
          "model_module": "@jupyter-widgets/base",
          "model_name": "LayoutModel",
          "model_module_version": "1.2.0",
          "state": {
            "_view_name": "LayoutView",
            "grid_template_rows": null,
            "right": null,
            "justify_content": null,
            "_view_module": "@jupyter-widgets/base",
            "overflow": null,
            "_model_module_version": "1.2.0",
            "_view_count": null,
            "flex_flow": null,
            "width": null,
            "min_width": null,
            "border": null,
            "align_items": null,
            "bottom": null,
            "_model_module": "@jupyter-widgets/base",
            "top": null,
            "grid_column": null,
            "overflow_y": null,
            "overflow_x": null,
            "grid_auto_flow": null,
            "grid_area": null,
            "grid_template_columns": null,
            "flex": null,
            "_model_name": "LayoutModel",
            "justify_items": null,
            "grid_row": null,
            "max_height": null,
            "align_content": null,
            "visibility": null,
            "align_self": null,
            "height": null,
            "min_height": null,
            "padding": null,
            "grid_auto_rows": null,
            "grid_gap": null,
            "max_width": null,
            "order": null,
            "_view_module_version": "1.2.0",
            "grid_template_areas": null,
            "object_position": null,
            "object_fit": null,
            "grid_auto_columns": null,
            "margin": null,
            "display": null,
            "left": null
          }
        },
        "88d4851291594cada30c7a0b3715c171": {
          "model_module": "@jupyter-widgets/controls",
          "model_name": "HBoxModel",
          "model_module_version": "1.5.0",
          "state": {
            "_view_name": "HBoxView",
            "_dom_classes": [],
            "_model_name": "HBoxModel",
            "_view_module": "@jupyter-widgets/controls",
            "_model_module_version": "1.5.0",
            "_view_count": null,
            "_view_module_version": "1.5.0",
            "box_style": "",
            "layout": "IPY_MODEL_df4a803fd82f4031a90fdbffe79e6ac4",
            "_model_module": "@jupyter-widgets/controls",
            "children": [
              "IPY_MODEL_eeec73157e0d4dc8abaa60ae2cd95bce",
              "IPY_MODEL_e0998bae524b4fa0ac3eb6e28cb1c1e0",
              "IPY_MODEL_515cf86aa6064d0dbe24ee0bdc1246bb"
            ]
          }
        },
        "df4a803fd82f4031a90fdbffe79e6ac4": {
          "model_module": "@jupyter-widgets/base",
          "model_name": "LayoutModel",
          "model_module_version": "1.2.0",
          "state": {
            "_view_name": "LayoutView",
            "grid_template_rows": null,
            "right": null,
            "justify_content": null,
            "_view_module": "@jupyter-widgets/base",
            "overflow": null,
            "_model_module_version": "1.2.0",
            "_view_count": null,
            "flex_flow": null,
            "width": null,
            "min_width": null,
            "border": null,
            "align_items": null,
            "bottom": null,
            "_model_module": "@jupyter-widgets/base",
            "top": null,
            "grid_column": null,
            "overflow_y": null,
            "overflow_x": null,
            "grid_auto_flow": null,
            "grid_area": null,
            "grid_template_columns": null,
            "flex": null,
            "_model_name": "LayoutModel",
            "justify_items": null,
            "grid_row": null,
            "max_height": null,
            "align_content": null,
            "visibility": null,
            "align_self": null,
            "height": null,
            "min_height": null,
            "padding": null,
            "grid_auto_rows": null,
            "grid_gap": null,
            "max_width": null,
            "order": null,
            "_view_module_version": "1.2.0",
            "grid_template_areas": null,
            "object_position": null,
            "object_fit": null,
            "grid_auto_columns": null,
            "margin": null,
            "display": null,
            "left": null
          }
        },
        "eeec73157e0d4dc8abaa60ae2cd95bce": {
          "model_module": "@jupyter-widgets/controls",
          "model_name": "HTMLModel",
          "model_module_version": "1.5.0",
          "state": {
            "_view_name": "HTMLView",
            "style": "IPY_MODEL_79d747f642c049a3ba24c5e33875223b",
            "_dom_classes": [],
            "description": "",
            "_model_name": "HTMLModel",
            "placeholder": "​",
            "_view_module": "@jupyter-widgets/controls",
            "_model_module_version": "1.5.0",
            "value": "",
            "_view_count": null,
            "_view_module_version": "1.5.0",
            "description_tooltip": null,
            "_model_module": "@jupyter-widgets/controls",
            "layout": "IPY_MODEL_a29b0a8f634f4ee5854a2dd738a31ea6"
          }
        },
        "e0998bae524b4fa0ac3eb6e28cb1c1e0": {
          "model_module": "@jupyter-widgets/controls",
          "model_name": "FloatProgressModel",
          "model_module_version": "1.5.0",
          "state": {
            "_view_name": "ProgressView",
            "style": "IPY_MODEL_37ee67db20774da69e1ea44398465f3a",
            "_dom_classes": [],
            "description": "",
            "_model_name": "FloatProgressModel",
            "bar_style": "success",
            "max": 1648877,
            "_view_module": "@jupyter-widgets/controls",
            "_model_module_version": "1.5.0",
            "value": 1648877,
            "_view_count": null,
            "_view_module_version": "1.5.0",
            "orientation": "horizontal",
            "min": 0,
            "description_tooltip": null,
            "_model_module": "@jupyter-widgets/controls",
            "layout": "IPY_MODEL_6147f2056deb40a28bf4dd9bd705fdc9"
          }
        },
        "515cf86aa6064d0dbe24ee0bdc1246bb": {
          "model_module": "@jupyter-widgets/controls",
          "model_name": "HTMLModel",
          "model_module_version": "1.5.0",
          "state": {
            "_view_name": "HTMLView",
            "style": "IPY_MODEL_4f66e84f249946e288347405369e35dc",
            "_dom_classes": [],
            "description": "",
            "_model_name": "HTMLModel",
            "placeholder": "​",
            "_view_module": "@jupyter-widgets/controls",
            "_model_module_version": "1.5.0",
            "value": " 1649664/? [00:00&lt;00:00, 17504667.14it/s]",
            "_view_count": null,
            "_view_module_version": "1.5.0",
            "description_tooltip": null,
            "_model_module": "@jupyter-widgets/controls",
            "layout": "IPY_MODEL_af7b5b2279be45b8bf12351ab4bbde1a"
          }
        },
        "79d747f642c049a3ba24c5e33875223b": {
          "model_module": "@jupyter-widgets/controls",
          "model_name": "DescriptionStyleModel",
          "model_module_version": "1.5.0",
          "state": {
            "_view_name": "StyleView",
            "_model_name": "DescriptionStyleModel",
            "description_width": "",
            "_view_module": "@jupyter-widgets/base",
            "_model_module_version": "1.5.0",
            "_view_count": null,
            "_view_module_version": "1.2.0",
            "_model_module": "@jupyter-widgets/controls"
          }
        },
        "a29b0a8f634f4ee5854a2dd738a31ea6": {
          "model_module": "@jupyter-widgets/base",
          "model_name": "LayoutModel",
          "model_module_version": "1.2.0",
          "state": {
            "_view_name": "LayoutView",
            "grid_template_rows": null,
            "right": null,
            "justify_content": null,
            "_view_module": "@jupyter-widgets/base",
            "overflow": null,
            "_model_module_version": "1.2.0",
            "_view_count": null,
            "flex_flow": null,
            "width": null,
            "min_width": null,
            "border": null,
            "align_items": null,
            "bottom": null,
            "_model_module": "@jupyter-widgets/base",
            "top": null,
            "grid_column": null,
            "overflow_y": null,
            "overflow_x": null,
            "grid_auto_flow": null,
            "grid_area": null,
            "grid_template_columns": null,
            "flex": null,
            "_model_name": "LayoutModel",
            "justify_items": null,
            "grid_row": null,
            "max_height": null,
            "align_content": null,
            "visibility": null,
            "align_self": null,
            "height": null,
            "min_height": null,
            "padding": null,
            "grid_auto_rows": null,
            "grid_gap": null,
            "max_width": null,
            "order": null,
            "_view_module_version": "1.2.0",
            "grid_template_areas": null,
            "object_position": null,
            "object_fit": null,
            "grid_auto_columns": null,
            "margin": null,
            "display": null,
            "left": null
          }
        },
        "37ee67db20774da69e1ea44398465f3a": {
          "model_module": "@jupyter-widgets/controls",
          "model_name": "ProgressStyleModel",
          "model_module_version": "1.5.0",
          "state": {
            "_view_name": "StyleView",
            "_model_name": "ProgressStyleModel",
            "description_width": "",
            "_view_module": "@jupyter-widgets/base",
            "_model_module_version": "1.5.0",
            "_view_count": null,
            "_view_module_version": "1.2.0",
            "bar_color": null,
            "_model_module": "@jupyter-widgets/controls"
          }
        },
        "6147f2056deb40a28bf4dd9bd705fdc9": {
          "model_module": "@jupyter-widgets/base",
          "model_name": "LayoutModel",
          "model_module_version": "1.2.0",
          "state": {
            "_view_name": "LayoutView",
            "grid_template_rows": null,
            "right": null,
            "justify_content": null,
            "_view_module": "@jupyter-widgets/base",
            "overflow": null,
            "_model_module_version": "1.2.0",
            "_view_count": null,
            "flex_flow": null,
            "width": null,
            "min_width": null,
            "border": null,
            "align_items": null,
            "bottom": null,
            "_model_module": "@jupyter-widgets/base",
            "top": null,
            "grid_column": null,
            "overflow_y": null,
            "overflow_x": null,
            "grid_auto_flow": null,
            "grid_area": null,
            "grid_template_columns": null,
            "flex": null,
            "_model_name": "LayoutModel",
            "justify_items": null,
            "grid_row": null,
            "max_height": null,
            "align_content": null,
            "visibility": null,
            "align_self": null,
            "height": null,
            "min_height": null,
            "padding": null,
            "grid_auto_rows": null,
            "grid_gap": null,
            "max_width": null,
            "order": null,
            "_view_module_version": "1.2.0",
            "grid_template_areas": null,
            "object_position": null,
            "object_fit": null,
            "grid_auto_columns": null,
            "margin": null,
            "display": null,
            "left": null
          }
        },
        "4f66e84f249946e288347405369e35dc": {
          "model_module": "@jupyter-widgets/controls",
          "model_name": "DescriptionStyleModel",
          "model_module_version": "1.5.0",
          "state": {
            "_view_name": "StyleView",
            "_model_name": "DescriptionStyleModel",
            "description_width": "",
            "_view_module": "@jupyter-widgets/base",
            "_model_module_version": "1.5.0",
            "_view_count": null,
            "_view_module_version": "1.2.0",
            "_model_module": "@jupyter-widgets/controls"
          }
        },
        "af7b5b2279be45b8bf12351ab4bbde1a": {
          "model_module": "@jupyter-widgets/base",
          "model_name": "LayoutModel",
          "model_module_version": "1.2.0",
          "state": {
            "_view_name": "LayoutView",
            "grid_template_rows": null,
            "right": null,
            "justify_content": null,
            "_view_module": "@jupyter-widgets/base",
            "overflow": null,
            "_model_module_version": "1.2.0",
            "_view_count": null,
            "flex_flow": null,
            "width": null,
            "min_width": null,
            "border": null,
            "align_items": null,
            "bottom": null,
            "_model_module": "@jupyter-widgets/base",
            "top": null,
            "grid_column": null,
            "overflow_y": null,
            "overflow_x": null,
            "grid_auto_flow": null,
            "grid_area": null,
            "grid_template_columns": null,
            "flex": null,
            "_model_name": "LayoutModel",
            "justify_items": null,
            "grid_row": null,
            "max_height": null,
            "align_content": null,
            "visibility": null,
            "align_self": null,
            "height": null,
            "min_height": null,
            "padding": null,
            "grid_auto_rows": null,
            "grid_gap": null,
            "max_width": null,
            "order": null,
            "_view_module_version": "1.2.0",
            "grid_template_areas": null,
            "object_position": null,
            "object_fit": null,
            "grid_auto_columns": null,
            "margin": null,
            "display": null,
            "left": null
          }
        },
        "fe2defb7116f482f9b4656e25e6c0922": {
          "model_module": "@jupyter-widgets/controls",
          "model_name": "HBoxModel",
          "model_module_version": "1.5.0",
          "state": {
            "_view_name": "HBoxView",
            "_dom_classes": [],
            "_model_name": "HBoxModel",
            "_view_module": "@jupyter-widgets/controls",
            "_model_module_version": "1.5.0",
            "_view_count": null,
            "_view_module_version": "1.5.0",
            "box_style": "",
            "layout": "IPY_MODEL_ae7e2179eab841f7b30ed43ab05a9bff",
            "_model_module": "@jupyter-widgets/controls",
            "children": [
              "IPY_MODEL_f68c7deef4ee4a9fa799df5c03339236",
              "IPY_MODEL_fda0b14ec9604ec2888b8287070849a9",
              "IPY_MODEL_29d28ea69cef4bf2846f3028b5b56def"
            ]
          }
        },
        "ae7e2179eab841f7b30ed43ab05a9bff": {
          "model_module": "@jupyter-widgets/base",
          "model_name": "LayoutModel",
          "model_module_version": "1.2.0",
          "state": {
            "_view_name": "LayoutView",
            "grid_template_rows": null,
            "right": null,
            "justify_content": null,
            "_view_module": "@jupyter-widgets/base",
            "overflow": null,
            "_model_module_version": "1.2.0",
            "_view_count": null,
            "flex_flow": null,
            "width": null,
            "min_width": null,
            "border": null,
            "align_items": null,
            "bottom": null,
            "_model_module": "@jupyter-widgets/base",
            "top": null,
            "grid_column": null,
            "overflow_y": null,
            "overflow_x": null,
            "grid_auto_flow": null,
            "grid_area": null,
            "grid_template_columns": null,
            "flex": null,
            "_model_name": "LayoutModel",
            "justify_items": null,
            "grid_row": null,
            "max_height": null,
            "align_content": null,
            "visibility": null,
            "align_self": null,
            "height": null,
            "min_height": null,
            "padding": null,
            "grid_auto_rows": null,
            "grid_gap": null,
            "max_width": null,
            "order": null,
            "_view_module_version": "1.2.0",
            "grid_template_areas": null,
            "object_position": null,
            "object_fit": null,
            "grid_auto_columns": null,
            "margin": null,
            "display": null,
            "left": null
          }
        },
        "f68c7deef4ee4a9fa799df5c03339236": {
          "model_module": "@jupyter-widgets/controls",
          "model_name": "HTMLModel",
          "model_module_version": "1.5.0",
          "state": {
            "_view_name": "HTMLView",
            "style": "IPY_MODEL_d39503af72014e679d68190818176e65",
            "_dom_classes": [],
            "description": "",
            "_model_name": "HTMLModel",
            "placeholder": "​",
            "_view_module": "@jupyter-widgets/controls",
            "_model_module_version": "1.5.0",
            "value": "",
            "_view_count": null,
            "_view_module_version": "1.5.0",
            "description_tooltip": null,
            "_model_module": "@jupyter-widgets/controls",
            "layout": "IPY_MODEL_13512898130b4db5bad2ed89bb2bcda9"
          }
        },
        "fda0b14ec9604ec2888b8287070849a9": {
          "model_module": "@jupyter-widgets/controls",
          "model_name": "FloatProgressModel",
          "model_module_version": "1.5.0",
          "state": {
            "_view_name": "ProgressView",
            "style": "IPY_MODEL_50454867d1a147c49c95b2616c80706c",
            "_dom_classes": [],
            "description": "",
            "_model_name": "FloatProgressModel",
            "bar_style": "success",
            "max": 4542,
            "_view_module": "@jupyter-widgets/controls",
            "_model_module_version": "1.5.0",
            "value": 4542,
            "_view_count": null,
            "_view_module_version": "1.5.0",
            "orientation": "horizontal",
            "min": 0,
            "description_tooltip": null,
            "_model_module": "@jupyter-widgets/controls",
            "layout": "IPY_MODEL_bbc32d9a980d45ffa6d24096d36b2eb9"
          }
        },
        "29d28ea69cef4bf2846f3028b5b56def": {
          "model_module": "@jupyter-widgets/controls",
          "model_name": "HTMLModel",
          "model_module_version": "1.5.0",
          "state": {
            "_view_name": "HTMLView",
            "style": "IPY_MODEL_4918a4b234364c1dabcfd575f3383aee",
            "_dom_classes": [],
            "description": "",
            "_model_name": "HTMLModel",
            "placeholder": "​",
            "_view_module": "@jupyter-widgets/controls",
            "_model_module_version": "1.5.0",
            "value": " 5120/? [00:00&lt;00:00, 95589.44it/s]",
            "_view_count": null,
            "_view_module_version": "1.5.0",
            "description_tooltip": null,
            "_model_module": "@jupyter-widgets/controls",
            "layout": "IPY_MODEL_3aedc0e53588446481e1fd083c32e856"
          }
        },
        "d39503af72014e679d68190818176e65": {
          "model_module": "@jupyter-widgets/controls",
          "model_name": "DescriptionStyleModel",
          "model_module_version": "1.5.0",
          "state": {
            "_view_name": "StyleView",
            "_model_name": "DescriptionStyleModel",
            "description_width": "",
            "_view_module": "@jupyter-widgets/base",
            "_model_module_version": "1.5.0",
            "_view_count": null,
            "_view_module_version": "1.2.0",
            "_model_module": "@jupyter-widgets/controls"
          }
        },
        "13512898130b4db5bad2ed89bb2bcda9": {
          "model_module": "@jupyter-widgets/base",
          "model_name": "LayoutModel",
          "model_module_version": "1.2.0",
          "state": {
            "_view_name": "LayoutView",
            "grid_template_rows": null,
            "right": null,
            "justify_content": null,
            "_view_module": "@jupyter-widgets/base",
            "overflow": null,
            "_model_module_version": "1.2.0",
            "_view_count": null,
            "flex_flow": null,
            "width": null,
            "min_width": null,
            "border": null,
            "align_items": null,
            "bottom": null,
            "_model_module": "@jupyter-widgets/base",
            "top": null,
            "grid_column": null,
            "overflow_y": null,
            "overflow_x": null,
            "grid_auto_flow": null,
            "grid_area": null,
            "grid_template_columns": null,
            "flex": null,
            "_model_name": "LayoutModel",
            "justify_items": null,
            "grid_row": null,
            "max_height": null,
            "align_content": null,
            "visibility": null,
            "align_self": null,
            "height": null,
            "min_height": null,
            "padding": null,
            "grid_auto_rows": null,
            "grid_gap": null,
            "max_width": null,
            "order": null,
            "_view_module_version": "1.2.0",
            "grid_template_areas": null,
            "object_position": null,
            "object_fit": null,
            "grid_auto_columns": null,
            "margin": null,
            "display": null,
            "left": null
          }
        },
        "50454867d1a147c49c95b2616c80706c": {
          "model_module": "@jupyter-widgets/controls",
          "model_name": "ProgressStyleModel",
          "model_module_version": "1.5.0",
          "state": {
            "_view_name": "StyleView",
            "_model_name": "ProgressStyleModel",
            "description_width": "",
            "_view_module": "@jupyter-widgets/base",
            "_model_module_version": "1.5.0",
            "_view_count": null,
            "_view_module_version": "1.2.0",
            "bar_color": null,
            "_model_module": "@jupyter-widgets/controls"
          }
        },
        "bbc32d9a980d45ffa6d24096d36b2eb9": {
          "model_module": "@jupyter-widgets/base",
          "model_name": "LayoutModel",
          "model_module_version": "1.2.0",
          "state": {
            "_view_name": "LayoutView",
            "grid_template_rows": null,
            "right": null,
            "justify_content": null,
            "_view_module": "@jupyter-widgets/base",
            "overflow": null,
            "_model_module_version": "1.2.0",
            "_view_count": null,
            "flex_flow": null,
            "width": null,
            "min_width": null,
            "border": null,
            "align_items": null,
            "bottom": null,
            "_model_module": "@jupyter-widgets/base",
            "top": null,
            "grid_column": null,
            "overflow_y": null,
            "overflow_x": null,
            "grid_auto_flow": null,
            "grid_area": null,
            "grid_template_columns": null,
            "flex": null,
            "_model_name": "LayoutModel",
            "justify_items": null,
            "grid_row": null,
            "max_height": null,
            "align_content": null,
            "visibility": null,
            "align_self": null,
            "height": null,
            "min_height": null,
            "padding": null,
            "grid_auto_rows": null,
            "grid_gap": null,
            "max_width": null,
            "order": null,
            "_view_module_version": "1.2.0",
            "grid_template_areas": null,
            "object_position": null,
            "object_fit": null,
            "grid_auto_columns": null,
            "margin": null,
            "display": null,
            "left": null
          }
        },
        "4918a4b234364c1dabcfd575f3383aee": {
          "model_module": "@jupyter-widgets/controls",
          "model_name": "DescriptionStyleModel",
          "model_module_version": "1.5.0",
          "state": {
            "_view_name": "StyleView",
            "_model_name": "DescriptionStyleModel",
            "description_width": "",
            "_view_module": "@jupyter-widgets/base",
            "_model_module_version": "1.5.0",
            "_view_count": null,
            "_view_module_version": "1.2.0",
            "_model_module": "@jupyter-widgets/controls"
          }
        },
        "3aedc0e53588446481e1fd083c32e856": {
          "model_module": "@jupyter-widgets/base",
          "model_name": "LayoutModel",
          "model_module_version": "1.2.0",
          "state": {
            "_view_name": "LayoutView",
            "grid_template_rows": null,
            "right": null,
            "justify_content": null,
            "_view_module": "@jupyter-widgets/base",
            "overflow": null,
            "_model_module_version": "1.2.0",
            "_view_count": null,
            "flex_flow": null,
            "width": null,
            "min_width": null,
            "border": null,
            "align_items": null,
            "bottom": null,
            "_model_module": "@jupyter-widgets/base",
            "top": null,
            "grid_column": null,
            "overflow_y": null,
            "overflow_x": null,
            "grid_auto_flow": null,
            "grid_area": null,
            "grid_template_columns": null,
            "flex": null,
            "_model_name": "LayoutModel",
            "justify_items": null,
            "grid_row": null,
            "max_height": null,
            "align_content": null,
            "visibility": null,
            "align_self": null,
            "height": null,
            "min_height": null,
            "padding": null,
            "grid_auto_rows": null,
            "grid_gap": null,
            "max_width": null,
            "order": null,
            "_view_module_version": "1.2.0",
            "grid_template_areas": null,
            "object_position": null,
            "object_fit": null,
            "grid_auto_columns": null,
            "margin": null,
            "display": null,
            "left": null
          }
        }
      }
    }
  },
  "cells": [
    {
      "cell_type": "markdown",
      "metadata": {
        "id": "view-in-github",
        "colab_type": "text"
      },
      "source": [
        "<a href=\"https://colab.research.google.com/github/kd303/examples/blob/master/PyTorchAssginment1.ipynb\" target=\"_parent\"><img src=\"https://colab.research.google.com/assets/colab-badge.svg\" alt=\"Open In Colab\"/></a>"
      ]
    },
    {
      "cell_type": "code",
      "metadata": {
        "id": "p6unO7wDLiMT"
      },
      "source": [
        ""
      ],
      "execution_count": null,
      "outputs": []
    },
    {
      "cell_type": "markdown",
      "metadata": {
        "id": "b4ncwCtaLjYB"
      },
      "source": [
        "## Problem Statement:\n",
        "\n",
        "We are to solve for a neural network which outputs a sum of  an image of a number between **0 & 9** and also a *random number generated* between **0 & 9** \n",
        "\n",
        "\n",
        "Nueral nets are not great at solving linear equations, this is an excersize in understanding **PyTorch** Data Loader and built an intution on nural net and their working.\n",
        "\n",
        "  \n",
        "### **Following Image shows a sample of what we are trying to achieve:**\n",
        "---\n",
        "5 is an image and 7 is a generated number, which gives two outputs number that is recongnized by NN and 13 is a sum of two input numbers\n",
        "\n",
        "![SampleNN.JPG](data:image/jpeg;base64,/9j/4AAQSkZJRgABAQEAYABgAAD/4RD0RXhpZgAATU0AKgAAAAgABAE7AAIAAAAOAAAISodpAAQAAAABAAAIWJydAAEAAAAcAAAQ0OocAAcAAAgMAAAAPgAAAAAc6gAAAAgAAAAAAAAAAAAAAAAAAAAAAAAAAAAAAAAAAAAAAAAAAAAAAAAAAAAAAAAAAAAAAAAAAAAAAAAAAAAAAAAAAAAAAAAAAAAAAAAAAAAAAAAAAAAAAAAAAAAAAAAAAAAAAAAAAAAAAAAAAAAAAAAAAAAAAAAAAAAAAAAAAAAAAAAAAAAAAAAAAAAAAAAAAAAAAAAAAAAAAAAAAAAAAAAAAAAAAAAAAAAAAAAAAAAAAAAAAAAAAAAAAAAAAAAAAAAAAAAAAAAAAAAAAAAAAAAAAAAAAAAAAAAAAAAAAAAAAAAAAAAAAAAAAAAAAAAAAAAAAAAAAAAAAAAAAAAAAAAAAAAAAAAAAAAAAAAAAAAAAAAAAAAAAAAAAAAAAAAAAAAAAAAAAAAAAAAAAAAAAAAAAAAAAAAAAAAAAAAAAAAAAAAAAAAAAAAAAAAAAAAAAAAAAAAAAAAAAAAAAAAAAAAAAAAAAAAAAAAAAAAAAAAAAAAAAAAAAAAAAAAAAAAAAAAAAAAAAAAAAAAAAAAAAAAAAAAAAAAAAAAAAAAAAAAAAAAAAAAAAAAAAAAAAAAAAAAAAAAAAAAAAAAAAAAAAAAAAAAAAAAAAAAAAAAAAAAAAAAAAAAAAAAAAAAAAAAAAAAAAAAAAAAAAAAAAAAAAAAAAAAAAAAAAAAAAAAAAAAAAAAAAAAAAAAAAAAAAAAAAAAAAAAAAAAAAAAAAAAAAAAAAAAAAAAAAAAAAAAAAAAAAAAAAAAAAAAAAAAAAAAAAAAAAAAAAAAAAAAAAAAAAAAAAAAAAAAAAAAAAAAAAAAAAAAAAAAAAAAAAAAAAAAAAAAAAAAAAAAAAAAAAAAAAAAAAAAAAAAAAAAAAAAAAAAAAAAAAAAAAAAAAAAAAAAAAAAAAAAAAAAAAAAAAAAAAAAAAAAAAAAAAAAAAAAAAAAAAAAAAAAAAAAAAAAAAAAAAAAAAAAAAAAAAAAAAAAAAAAAAAAAAAAAAAAAAAAAAAAAAAAAAAAAAAAAAAAAAAAAAAAAAAAAAAAAAAAAAAAAAAAAAAAAAAAAAAAAAAAAAAAAAAAAAAAAAAAAAAAAAAAAAAAAAAAAAAAAAAAAAAAAAAAAAAAAAAAAAAAAAAAAAAAAAAAAAAAAAAAAAAAAAAAAAAAAAAAAAAAAAAAAAAAAAAAAAAAAAAAAAAAAAAAAAAAAAAAAAAAAAAAAAAAAAAAAAAAAAAAAAAAAAAAAAAAAAAAAAAAAAAAAAAAAAAAAAAAAAAAAAAAAAAAAAAAAAAAAAAAAAAAAAAAAAAAAAAAAAAAAAAAAAAAAAAAAAAAAAAAAAAAAAAAAAAAAAAAAAAAAAAAAAAAAAAAAAAAAAAAAAAAAAAAAAAAAAAAAAAAAAAAAAAAAAAAAAAAAAAAAAAAAAAAAAAAAAAAAAAAAAAAAAAAAAAAAAAAAAAAAAAAAAAAAAAAAAAAAAAAAAAAAAAAAAAAAAAAAAAAAAAAAAAAAAAAAAAAAAAAAAAAAAAAAAAAAAAAAAAAAAAAAAAAAAAAAAAAAAAAAAAAAAAAAAAAAAAAAAAAAAAAAAAAAAAAAAAAAAAAAAAAAAAAAAAAAAAAAAAAAAAAAAAAAAAAAAAAAAAAAAAAAAAAAAAAAAAAAAAAAAAAAAAAAAAAAAAAAAAAAAAAAAAAAAAAAAAAAAAAAAAAAAAAAAAAAAAAAAAAAAAAAAAAAAAAAAAAAAAAAAAAAAAAAAAAAAAAAAAAAAAAAAAAAAAAAAAAAAAAAAAAAAAAAAAAAAAAAAAAAAAAAAAAAAAAAAAAAAAAAAAAAAAAAAAAAAAAAAAAAAAAAAAAAAAAAAAAAAAAAAAAAAAAAAAAAAAAAAAAAAAAAAAAAAAAAAAAAAAAAAAAAAAAAAAAAAAAAAAAAAAAAAAAAAAAAAAAAAAAAAAAAAAAAAAAAAAAAAAAAAAAAAAAAAAAAAAAAAAAAAAAAAAAAAAAAAAAAAAAAAAAAAAAAAAAAAAAAAAAAAAAAAAAAAAAAAAAAAAAAAAAAAAAAAAAAAAAAAAAAAAAAAAAAAAAAAAAAAAAAAAAAAAAAAAAAAAAAAAAAAAAAAAAAAAAAAAAAAAAAAAAAAAAAAAAAAAAAAAAAAAAAAAAAAAAAAAAAAAAAAAAAAAAAAAAAAAAAAAAAAAAAAAAAAAAAAAAAAAAAAAAAAAAAAAAAAAAAAAAAAAAAAAAAAAAAAAAAAAAAAAAAAAAAAAAAAAAAAAAAAAAAAAAAAAAAAAAAAAAAAAAAAAAAAAAAAAAAAAAAAAAAAAAAAAAAAAAAAAAAAAAAAAAAAAAAAAAAAAAAAAAAAAAAAAAAAAAAAAAAAAAAAAAAAAAAAAAAAAAAAAAAAAAAAAAAAAAAAAAAAAAAAAAAAAAAAAAAAAAAAAAAAAAAAAAAAAAAAAAAAAAAAAAAAAAAAAAAAAAAAAAAAAAAAAAAAAAAAAAAAAAAAAAAAAAAAAAAAAAAAAAAAAAAAAAAAAAAAAAAAAAAAAAAAAAAAAAAAAAAAAAAAAAAAAAAAAAAAAAAAAAAAAAAAAAAAAAAAAAAAAAAAAAAAAAAAAAAAAAAAAAAAAAAAAAAAAAAAAAAAAAAAAAAAAAAAAAAAAAAAAAAAAAAAAAAAAAAAAAAAAAAAAAAAAAAAAAAAAAAAAAAAAAAAAAAAAAAAAAAAAAAAAAAAAAAAAAAAAAAAAAAAAAAAAAAAAAAAAAAAAAAAAAAAAAAAAAAAAAAAEthdXNoYWwgRGVzYWkAAAWQAwACAAAAFAAAEKaQBAACAAAAFAAAELqSkQACAAAAAzY2AACSkgACAAAAAzY2AADqHAAHAAAIDAAACJoAAAAAHOoAAAAIAAAAAAAAAAAAAAAAAAAAAAAAAAAAAAAAAAAAAAAAAAAAAAAAAAAAAAAAAAAAAAAAAAAAAAAAAAAAAAAAAAAAAAAAAAAAAAAAAAAAAAAAAAAAAAAAAAAAAAAAAAAAAAAAAAAAAAAAAAAAAAAAAAAAAAAAAAAAAAAAAAAAAAAAAAAAAAAAAAAAAAAAAAAAAAAAAAAAAAAAAAAAAAAAAAAAAAAAAAAAAAAAAAAAAAAAAAAAAAAAAAAAAAAAAAAAAAAAAAAAAAAAAAAAAAAAAAAAAAAAAAAAAAAAAAAAAAAAAAAAAAAAAAAAAAAAAAAAAAAAAAAAAAAAAAAAAAAAAAAAAAAAAAAAAAAAAAAAAAAAAAAAAAAAAAAAAAAAAAAAAAAAAAAAAAAAAAAAAAAAAAAAAAAAAAAAAAAAAAAAAAAAAAAAAAAAAAAAAAAAAAAAAAAAAAAAAAAAAAAAAAAAAAAAAAAAAAAAAAAAAAAAAAAAAAAAAAAAAAAAAAAAAAAAAAAAAAAAAAAAAAAAAAAAAAAAAAAAAAAAAAAAAAAAAAAAAAAAAAAAAAAAAAAAAAAAAAAAAAAAAAAAAAAAAAAAAAAAAAAAAAAAAAAAAAAAAAAAAAAAAAAAAAAAAAAAAAAAAAAAAAAAAAAAAAAAAAAAAAAAAAAAAAAAAAAAAAAAAAAAAAAAAAAAAAAAAAAAAAAAAAAAAAAAAAAAAAAAAAAAAAAAAAAAAAAAAAAAAAAAAAAAAAAAAAAAAAAAAAAAAAAAAAAAAAAAAAAAAAAAAAAAAAAAAAAAAAAAAAAAAAAAAAAAAAAAAAAAAAAAAAAAAAAAAAAAAAAAAAAAAAAAAAAAAAAAAAAAAAAAAAAAAAAAAAAAAAAAAAAAAAAAAAAAAAAAAAAAAAAAAAAAAAAAAAAAAAAAAAAAAAAAAAAAAAAAAAAAAAAAAAAAAAAAAAAAAAAAAAAAAAAAAAAAAAAAAAAAAAAAAAAAAAAAAAAAAAAAAAAAAAAAAAAAAAAAAAAAAAAAAAAAAAAAAAAAAAAAAAAAAAAAAAAAAAAAAAAAAAAAAAAAAAAAAAAAAAAAAAAAAAAAAAAAAAAAAAAAAAAAAAAAAAAAAAAAAAAAAAAAAAAAAAAAAAAAAAAAAAAAAAAAAAAAAAAAAAAAAAAAAAAAAAAAAAAAAAAAAAAAAAAAAAAAAAAAAAAAAAAAAAAAAAAAAAAAAAAAAAAAAAAAAAAAAAAAAAAAAAAAAAAAAAAAAAAAAAAAAAAAAAAAAAAAAAAAAAAAAAAAAAAAAAAAAAAAAAAAAAAAAAAAAAAAAAAAAAAAAAAAAAAAAAAAAAAAAAAAAAAAAAAAAAAAAAAAAAAAAAAAAAAAAAAAAAAAAAAAAAAAAAAAAAAAAAAAAAAAAAAAAAAAAAAAAAAAAAAAAAAAAAAAAAAAAAAAAAAAAAAAAAAAAAAAAAAAAAAAAAAAAAAAAAAAAAAAAAAAAAAAAAAAAAAAAAAAAAAAAAAAAAAAAAAAAAAAAAAAAAAAAAAAAAAAAAAAAAAAAAAAAAAAAAAAAAAAAAAAAAAAAAAAAAAAAAAAAAAAAAAAAAAAAAAAAAAAAAAAAAAAAAAAAAAAAAAAAAAAAAAAAAAAAAAAAAAAAAAAAAAAAAAAAAAAAAAAAAAAAAAAAAAAAAAAAAAAAAAAAAAAAAAAAAAAAAAAAAAAAAAAAAAAAAAAAAAAAAAAAAAAAAAAAAAAAAAAAAAAAAAAAAAAAAAAAAAAAAAAAAAAAAAAAAAAAAAAAAAAAAAAAAAAAAAAAAAAAAAAAAAAAAAAAAAAAAAAAAAAAAAAAAAAAAAAAAAAAAAAAAAAAAAAAAAAAAAAAAAAAAAAAAAAAAAAAAAAAAAAAAAAAAAAAAAAAAAAAAAAAAAAAAAAAAAAAAAAAAAAAAAAAAAAAAAAAAAAAAAAAAAAAAAAAAAAAAAAAAAAAAAAAAAAAAAAAAAAAAAAAAAAAAAAAAAAAAAAAAAAAAAAAAAAAAAAAAAAAAAAAAAAAAAAAAAAAAAAAAAAAAAAAAAAAAAAAAAAAAAAAAAAAAAAAAAAAAAAAAAAAAAAAAAAAAAAAAAAAAAAAAAAAAAAAAAAAAAAAAAAAAAAAAAAAAAAAAAAAAAAAAAAAAAAAAAAAAAAAAAAAAAAAAAAAAAAAAAAAAAAAAAAAAAAAAAAAAAAAAAAAAAAAAAAAAAAAAAAAAAAAAAAAAAAAAAAAAAAAAAAAAAAAAAAAAAAAAAAAAAAAAAAAAAAAAAAAAAAAAAAAAAAAAAAAAAAAAAAAAAAAAAAAAAAAAAAAAAAAAAAAAAAAAAAAAAAAAAAAAAAAAAAAAAAAAAAAAAAAAAAAAAAAAAAAAAAAAAAAAAAAAAAAAAAAAAAAAAAAAAAAAAAAAAAAAAAAAAAAAAAAAAAAAAAAAAAAAAAAAAAAAAAAAAAAAAAAAAAAAAAAAAAAAAAAAAAAAAAAAAAAAAAAAAAAAAAAAAAAAAAAAAAAAAAAAAAAAAAAAAAAAAAAAAAAAAAAAAAAAAAAAAAAAAAAAAAAAAAAAAAAAAAAAAAAAAAAAAAAAAAAAAAAAAAAAAAAAAAAAAAAAAAAAAAAAAAAAAAAAAAAAAAAAAAAAAAAAAAAAAAAAAAAAAAAAAAAAAAAAAAAAAAAAAAAAAAAAAAAAAAAAAAAAAAAAAAAAAAAAAAAAAAAAAAAAAAAAAAAAAAAAAAAAAAAAAAAAAAAAAAAAAyMDIxOjEwOjE1IDE0OjM1OjE0ADIwMjE6MTA6MTUgMTQ6MzU6MTQAAABLAGEAdQBzAGgAYQBsACAARABlAHMAYQBpAAAA/+ELIGh0dHA6Ly9ucy5hZG9iZS5jb20veGFwLzEuMC8APD94cGFja2V0IGJlZ2luPSfvu78nIGlkPSdXNU0wTXBDZWhpSHpyZVN6TlRjemtjOWQnPz4NCjx4OnhtcG1ldGEgeG1sbnM6eD0iYWRvYmU6bnM6bWV0YS8iPjxyZGY6UkRGIHhtbG5zOnJkZj0iaHR0cDovL3d3dy53My5vcmcvMTk5OS8wMi8yMi1yZGYtc3ludGF4LW5zIyI+PHJkZjpEZXNjcmlwdGlvbiByZGY6YWJvdXQ9InV1aWQ6ZmFmNWJkZDUtYmEzZC0xMWRhLWFkMzEtZDMzZDc1MTgyZjFiIiB4bWxuczpkYz0iaHR0cDovL3B1cmwub3JnL2RjL2VsZW1lbnRzLzEuMS8iLz48cmRmOkRlc2NyaXB0aW9uIHJkZjphYm91dD0idXVpZDpmYWY1YmRkNS1iYTNkLTExZGEtYWQzMS1kMzNkNzUxODJmMWIiIHhtbG5zOnhtcD0iaHR0cDovL25zLmFkb2JlLmNvbS94YXAvMS4wLyI+PHhtcDpDcmVhdGVEYXRlPjIwMjEtMTAtMTVUMTQ6MzU6MTQuNjYwPC94bXA6Q3JlYXRlRGF0ZT48L3JkZjpEZXNjcmlwdGlvbj48cmRmOkRlc2NyaXB0aW9uIHJkZjphYm91dD0idXVpZDpmYWY1YmRkNS1iYTNkLTExZGEtYWQzMS1kMzNkNzUxODJmMWIiIHhtbG5zOmRjPSJodHRwOi8vcHVybC5vcmcvZGMvZWxlbWVudHMvMS4xLyI+PGRjOmNyZWF0b3I+PHJkZjpTZXEgeG1sbnM6cmRmPSJodHRwOi8vd3d3LnczLm9yZy8xOTk5LzAyLzIyLXJkZi1zeW50YXgtbnMjIj48cmRmOmxpPkthdXNoYWwgRGVzYWk8L3JkZjpsaT48L3JkZjpTZXE+DQoJCQk8L2RjOmNyZWF0b3I+PC9yZGY6RGVzY3JpcHRpb24+PC9yZGY6UkRGPjwveDp4bXBtZXRhPg0KICAgICAgICAgICAgICAgICAgICAgICAgICAgICAgICAgICAgICAgICAgICAgICAgICAgICAgICAgICAgICAgICAgICAgICAgICAgICAgICAgICAgICAgICAgICAgICAgICAgIAogICAgICAgICAgICAgICAgICAgICAgICAgICAgICAgICAgICAgICAgICAgICAgICAgICAgICAgICAgICAgICAgICAgICAgICAgICAgICAgICAgICAgICAgICAgICAgICAgICAgCiAgICAgICAgICAgICAgICAgICAgICAgICAgICAgICAgICAgICAgICAgICAgICAgICAgICAgICAgICAgICAgICAgICAgICAgICAgICAgICAgICAgICAgICAgICAgICAgICAgICAKICAgICAgICAgICAgICAgICAgICAgICAgICAgICAgICAgICAgICAgICAgICAgICAgICAgICAgICAgICAgICAgICAgICAgICAgICAgICAgICAgICAgICAgICAgICAgICAgICAgIAogICAgICAgICAgICAgICAgICAgICAgICAgICAgICAgICAgICAgICAgICAgICAgICAgICAgICAgICAgICAgICAgICAgICAgICAgICAgICAgICAgICAgICAgICAgICAgICAgICAgCiAgICAgICAgICAgICAgICAgICAgICAgICAgICAgICAgICAgICAgICAgICAgICAgICAgICAgICAgICAgICAgICAgICAgICAgICAgICAgICAgICAgICAgICAgICAgICAgICAgICAKICAgICAgICAgICAgICAgICAgICAgICAgICAgICAgICAgICAgICAgICAgICAgICAgICAgICAgICAgICAgICAgICAgICAgICAgICAgICAgICAgICAgICAgICAgICAgICAgICAgIAogICAgICAgICAgICAgICAgICAgICAgICAgICAgICAgICAgICAgICAgICAgICAgICAgICAgICAgICAgICAgICAgICAgICAgICAgICAgICAgICAgICAgICAgICAgICAgICAgICAgCiAgICAgICAgICAgICAgICAgICAgICAgICAgICAgICAgICAgICAgICAgICAgICAgICAgICAgICAgICAgICAgICAgICAgICAgICAgICAgICAgICAgICAgICAgICAgICAgICAgICAKICAgICAgICAgICAgICAgICAgICAgICAgICAgICAgICAgICAgICAgICAgICAgICAgICAgICAgICAgICAgICAgICAgICAgICAgICAgICAgICAgICAgICAgICAgICAgICAgICAgIAogICAgICAgICAgICAgICAgICAgICAgICAgICAgICAgICAgICAgICAgICAgICAgICAgICAgICAgICAgICAgICAgICAgICAgICAgICAgICAgICAgICAgICAgICAgICAgICAgICAgCiAgICAgICAgICAgICAgICAgICAgICAgICAgICAgICAgICAgICAgICAgICAgICAgICAgICAgICAgICAgICAgICAgICAgICAgICAgICAgICAgICAgICAgICAgICAgICAgICAgICAKICAgICAgICAgICAgICAgICAgICAgICAgICAgICAgICAgICAgICAgICAgICAgICAgICAgICAgICAgICAgICAgICAgICAgICAgICAgICAgICAgICAgICAgICAgICAgICAgICAgIAogICAgICAgICAgICAgICAgICAgICAgICAgICAgICAgICAgICAgICAgICAgICAgICAgICAgICAgICAgICAgICAgICAgICAgICAgICAgICAgICAgICAgICAgICAgICAgICAgICAgCiAgICAgICAgICAgICAgICAgICAgICAgICAgICAgICAgICAgICAgICAgICAgICAgICAgICAgICAgICAgICAgICAgICAgICAgICAgICAgICAgICAgICAgICAgICAgICAgICAgICAKICAgICAgICAgICAgICAgICAgICAgICAgICAgICAgICAgICAgICAgICAgICAgICAgICAgICAgICAgICAgICAgICAgICAgICAgICAgICAgICAgICAgICAgICAgICAgICAgICAgIAogICAgICAgICAgICAgICAgICAgICAgICAgICAgICAgICAgICAgICAgICAgICAgICAgICAgICAgICAgICAgICAgICAgICAgICAgICAgICAgICAgICAgICAgICAgICAgICAgICAgCiAgICAgICAgICAgICAgICAgICAgICAgICAgICAgICAgICAgICAgICAgICAgICAgICAgICAgICAgICAgICAgICAgICAgICAgICAgICAgICAgICAgICAgICAgICAgICAgICAgICAKICAgICAgICAgICAgICAgICAgICAgICAgICAgICAgICAgICAgICAgICAgICAgICAgICAgICAgICAgICAgICAgICAgICAgICAgICAgICAgICAgICAgICAgICAgICAgICAgICAgIAogICAgICAgICAgICAgICAgICAgICAgICAgICAgICAgICAgICAgICAgICAgICAgICAgICAgICAgICAgICAgICAgICAgICAgICAgICAgICAgICAgICAgICAgICAgICAgICAgICAgCiAgICAgICAgICAgICAgICAgICAgICAgICAgICA8P3hwYWNrZXQgZW5kPSd3Jz8+/9sAQwAHBQUGBQQHBgUGCAcHCAoRCwoJCQoVDxAMERgVGhkYFRgXGx4nIRsdJR0XGCIuIiUoKSssKxogLzMvKjInKisq/9sAQwEHCAgKCQoUCwsUKhwYHCoqKioqKioqKioqKioqKioqKioqKioqKioqKioqKioqKioqKioqKioqKioqKioqKioq/8AAEQgAsgHPAwEiAAIRAQMRAf/EAB8AAAEFAQEBAQEBAAAAAAAAAAABAgMEBQYHCAkKC//EALUQAAIBAwMCBAMFBQQEAAABfQECAwAEEQUSITFBBhNRYQcicRQygZGhCCNCscEVUtHwJDNicoIJChYXGBkaJSYnKCkqNDU2Nzg5OkNERUZHSElKU1RVVldYWVpjZGVmZ2hpanN0dXZ3eHl6g4SFhoeIiYqSk5SVlpeYmZqio6Slpqeoqaqys7S1tre4ubrCw8TFxsfIycrS09TV1tfY2drh4uPk5ebn6Onq8fLz9PX29/j5+v/EAB8BAAMBAQEBAQEBAQEAAAAAAAABAgMEBQYHCAkKC//EALURAAIBAgQEAwQHBQQEAAECdwABAgMRBAUhMQYSQVEHYXETIjKBCBRCkaGxwQkjM1LwFWJy0QoWJDThJfEXGBkaJicoKSo1Njc4OTpDREVGR0hJSlNUVVZXWFlaY2RlZmdoaWpzdHV2d3h5eoKDhIWGh4iJipKTlJWWl5iZmqKjpKWmp6ipqrKztLW2t7i5usLDxMXGx8jJytLT1NXW19jZ2uLj5OXm5+jp6vLz9PX29/j5+v/aAAwDAQACEQMRAD8A+kaKKKACiimPIF60APoqo16ink0z+0Y/7w/OgC9RVH+0Y/7w/Oj+0Y/7w/OgC9RVH+0Y/wC8Pzo/tGP+8PzoAvUVR/tGP+8Pzo/tGP8AvD86AL1FUf7Rj/vD86et8jHgigC3RUaShuhqSgAooooAKKKKACiiigAooooAKKKKACiiigAooooAKKKKACiiigAooooAKKKKACiiigAooooAKKKKACiiigAooooAKKKKACiiigAooooAKKKKACiiigAooooARjgVzviXVjpek3d0o3GCF5ApOM4BOP0roX+7XB+P3I8Oaj/17Sf+gmgDwWb9pTVZTkaFbr/28t/8TUP/AA0Zq3/QGg/8CG/wrxqigD2X/hozVv8AoDQf+BDf4Uf8NGat/wBAaD/wIb/CvGqKAPZf+GjNW/6A0H/gQ3+FH/DRmrf9AaD/AMCG/wAK8cSMucAgfU1as9Mlvb2G2heMPM4Rdx4yaAPWf+GjNW/6A0H/AIEN/hR/w0Zq3/QGg/8AAhv8K5W1+EXiC8bbFPY5xnmVv/iareFvhhrfi68lttLms1eKXym86QgZ/AGgDs/+GjNW/wCgNB/4EN/hUsX7SeqxNn+w4G/7eW/+JrI179nzxb4esRdX1xprRl9mI5mJz/3zXl88TQXEkL43RsVOPUHFAH3j4I8RP4h8MabqksYhe8to5mjDZCFlBxn8a65Tla8u+Ebk+ANCHpYw/wDoAr0+P7goAfRRRQAUUUUAFFFFABRRUF7eQ6fYzXd04SGFC7sewFG4bEepapZaRZtdalcJbwr1ZzjPsPU1xNz8UhM5Gh6NcXcYPEsv7tW+neuXuLq48W6kdW1bd9nDH7HaN91F/vEdyaugYGBwK9COHhBe9qzglXnJ+7ojXj+JuoRNnUPDsgj7mCUOR+FdZoHivSvEcZOnXAMqj54XG11/CvPaoXlg/npfabIbXUITujmTjJ9D6iqlRpy2VhRrVI76ntVFYHg7xIPEuhLcSKI7uFjFcxA/dcf0P+elb9efKLjJxZ3RkpK6CiiipKCiiigAooooAKKKKACiiigAooooAKKKKACiiigAooooAKKKKACiiigAooooAKKKKACiiigAooooAa/3TXA/ED/kXNR/69pP/QTXfP8AdNcD8QP+Rc1H/r2k/wDQTQB8OUUUUAei/CjwHp3jbXms76/mtsWzS5iCk5DAY5B9a9+0f9nvRNMYOupXM/zBsSRp/hXzF4H8XXHhHWmvbeZoi0Jjyq54JB/pXtmnfH03euaZbLeXPlyOqyqYetAHs2k/D/RtLmMht4p/lxtkhUj+VX1svDa3ColnYLLuwoEK5z+VZ/iTxjbaX4Yh1ZTKsUz7VwmT+VfJ198YfFcfiKWWHVGEMdy5QeWMhdxx+lAH1D8SfEVl4K8OxX6W1oN84i/eLgcgnt9K8f0z43W2hxztZWOls8jbujDn8K4Xxz8VJfGfga10y+upZ7yOcSyFo8A4yOv415lQB6946+NN94lsfI+zW0Y80P8Aunf0x3NeRyuZZXkbqzEmm0UAfYfwn1fToPAuiJPf28bLZRAq8oBB2ivTI/EOj7B/xNbP/v8Ar/jXl3wiutMl8HaNbzJEs4s4htlQAt8o5GetetRWFnsH+iwf9+xV2it0yLyexD/wkGj/APQVs/8Av+v+NH/CQaP/ANBWz/7/AK/41Z/s+z/59IP+/YpP7Osv+fSD/v2KPc8w98g/t/R/+grZf+BC/wCNH9v6P/0FbL/wIX/Gp/7Osv8An0g/79ij+zbL/n0g/wC/Yo9zzD3yH+3tI/6Cll/4EL/jR/bmk/8AQUs//AhP8al/s2x/584P+/Yo/syx/wCfOD/v2KPc8w98p33iTTbSxmuIr21naNd3lrcIC2PTnrXDeNPGmmeIfCEdto9zmS7nSOSNvldBnJBHpXd6no1hPpk8Riitw6ENKsYyo7mvNvFmk+GNK8KxP4elt2uLW4R2IcM7jODmurDqm5LR3uc2IdRRe1rAiLHGqIMKoAA9BTqajrJGrocqwBB9RTq6TmCiiigC54Bn+yfEDULRXCxXlks5U93Vtox+BNen14/4e8Px+KPFmpGRnjjs7RY1mjbBSUtuUj14B4rsNPfWNPuvsD3o+0qPkiu8tHOvqj9R9D0rnxEFKV09bI6KE3GNmtLnYUVjL4g+ysE1mzlsj08zG+M/8CFasFzDdRiS3lSVD0ZGzXG4tbnWpJ7ElFFFSUFFFFABRRVLVNYsNFtTcancx28fbceT9B3ppNuyE2krsu0Vwc/xUsi5GnaVe3idnC7Afzp9t8U9NMgXU7C8sAf43Xco/EVt9Xq22MfrFLudzRVexv7XUrVbmwnjnhYcOjZFWKxaa0Zve+wUUUUgCiiigAooooAKKKKACio/tEP/AD1T/voUfaIf+eqf99CldASUUUUwCiiigAooooAKKKKAGv8AdNcD8QP+Rc1H/r2k/wDQTXfP901wPxA/5FzUf+vaT/0E0AfDlFFFABVrTr17DUre7UBmhcOATwcVVooA+w/hz4o07x34RstLvJbX7SkLStArB2XBPY188+NPhzruna3cywaTevFLPK4bySAF3nBHtis3wJ43vvBurm7tLl4cxmPKRq5wT/tV9UeFvFfhf4h2KJLaXUsqKkUjSjZlmHONreooA+Mbm2ms52guY2ilX7yMMEVFX0l8V/gon2qbU9FtrWGOWVQu+4fONvoc+lfOt5aSWc7RyYyGI4PpQBXooooA+uPhVLbXXg3RNP1m2QF7KIwM33ZBtHQ9m9q9Oj0zUdOQNpF350Q/5dbs5H/AX6j8c1wHwvsoNQ+HGi290m9GsYSOcFTsGCD2I9a72zv7jR5UstZfzIHO23viMA+iv6N79DWsW2tPuMmrPX7yeHxDCsy2+qwyadcMcAT/AHHP+y/Q1sAgjIOR6imTQRXMLRXEaSxsMMjqGB/A1kHQZrE79AvWtB/z7TAywH2AJyv4HHtU+6/Ir3l5m1RWKuvvZER6/ZvYnp9oQ+ZA3/AgMr/wICpbjxHp0LCO3lN9OwysNoPMY/XHAHuSBRyS7Bzx7mrVK/1ex0wD7XOqu3CRr8zufQKOTVHydb1T/j4lXSbY/wDLOEiSdh7sflX8AfrV2w0ax01i9rAPOb788hLyP9WPJotFbsLyexSM+s6qCLaBdNt2/wCWlwN0jD2Tt+P5VyMXgrQdD1bUdR8SXUIinykCzsoyCOWx6+gr0eSRIYmkldURRlmY4AFctqWnjxvC0ckKx6WoOyR0HmXDdiuRlV9+pralUav0XUyqQT82eZWOoQafM9p55m08Sslpe7SEcDB25PcZFbgIIyORXeaT4S0+18H22h39tHcxKn70MM5c8kg/j161z9z8LEicnQ9burFO0UqCZV9hnGBXT7enJu+hzewqRStqYlULu+czpYabGbm/mO2OJOce59BXTRfDC+lbGo+Jpnj7rBbrGT/wLNdXoPhXSfDcRGm22JW+/PId0j/U/wCFKVanHZ3HGjUlvoReD/Di+GtCW2dhJdTMZbmX+85/oK1NQ0631O28m6UnByjqcMh9Qexq1RXA5ycuZ7ncopR5VsYdvfzabOun64Q6SHbBdkfLL/st6N/Opp/Dtk8nnWZksZuvmWzbc/Veh/KtG5toby3eC6jWWJxhlYZBrFWe48NuI71nuNKJwlyeXt/Z/Vf9rt39atNv4dyGkvi2Jd+u6d/rI4tUhH8UZEcoH0PB/Op7TxBYXU3kPI1tc/8APC4Uxv8AgD1/CtJWV0DIQysMgg5BFQ3dla38PlXtvHPH/dkUMP1qeZPdFWa2ZODnpRWKdCuLL5tE1KW3HaC4zNF+p3D8G/Cs7XfFGo+H9FubjU9OVJI0PlTwyCSF27Ag4Zcn2P1pqnzO0WJz5VeSNnxBrdv4e0O41G75WJflQdXY9FH1NeT+Xda3enVdfbzZ35jhP3IR2AFXfFHiq08YSeH4rFz5O57i5gPVHUAKD+Z+oNOrvpU3Sjruziq1FUlpshAABgDA9BSMqupV1DKeoIzTqKszKNrdXXhG+/tPSNxtc5urPPysvdgOxFew6ffQanp8F7aPvhnQOh9jXlbKGUqwyCMEHvXQfCy6K6Rf6a75Wyu2SMHsp5/mTWOIipQ5+qNqEuWfL0Z3lFJuX1H50bl9R+deed4tFJuX1H50bl9R+dAC0Um5fUfnWS/ijSoNbbSby4Frd4DIJvlWUHurdPbHWmot7CcktzXqlrE/2bRruXONsTc/hV2sDxrP5HhS75xvAQfiayqS5YN+QpO0WzhvD3hm71+1e4W9eIK2OSTmtgfDu8DA/wBpt19/8ay/D1/4ij08QaJar5QOTIy5yfxrUtvG2raVfLb+I7QBGP31XBA9fQ15lNYdQi5xfrrY5IqnZcyO8t4zFbpGzbiqgE+tSVHBPHcwJNCwZHGVI7ipK9c7QooooAKKKKACiiigBr/dNcD8QP8AkXNR/wCvaT/0E13z/dNcD8QP+Rc1H/r2k/8AQTQB8OUUUUAFFFXLDS7rUZ1it4ySzBQccZoAp10nhyPxJFcJLo8F1JtdWKxuQCe3evT/AAL8CL7UFiudVtbeWCSMkAyYOc17zoPwz8N6Hbr5dgkT4UsfMPUCgBfhh9sv/hrpja/alLoh/Mjm+Yr87Y6+1eFftE6DpOn39g9pKkbmJ22IoG47vYV7/rfjHQ/B1iFuWYRq2wCP5sE818nfF/xxp/jTVLOTTGlK26ureYm3qaAPOaKKKAPs/wCEX/IhaH/14w/+gCvTXt4rq0aC4jWSJxhlYZBFeX/CiaK3+HuiSTyLGgsYcsxwPuCu6TXZbxdmh2jXPbz5PkiH49/wqoxb1RLkloxizT+GmEd2zz6UThJzy1t7N6r79qsTeIoHkMOlQyajN/0x/wBWv1c8flmmf2BJf/Nr1012D/y7p8sQ/Dv+NQ/ZpfC7M9jEZdJZi0kCDLW5PVl9V9R2rX3Zeb/Ay95ehK2lajqin+2bzyoG62loSoI9GfqfwwKRfCtrZN5mhSNpkuOfJ5R/95Dwfr1rZt7iK6t0mt5FkjcZVlOQakqOeS0L5IvUxP7Wv9N+XWrIvGP+Xq0BZfqydR+Gavf2xp509r1buJrdB8zhs49sdc+3WnajqNvplqZrpup2qijLOewA7mufTwr/AGrdHU9RBsbgkNBDbnHlY6FuzNVJRkry0E3JO0dS7Ha3HiGVbjUkaHT1O6G0bgy+jSf0Wt0AKoCjAHQCsX7XrGl8XtuNQtx/y2txiQD3Tv8AhVLSPHWm6lq1/YtKsT22XUtxvTHPXuPShwlJXWyEpRi7PdnSyzRwRNLPIscajLO5wAPrXJX3xN8P2szRWzXF+6nB+zRFgD9a43WdZuvGt87u7w6NE5EMKnHn4/ib2p8NvFbxhII1jUdAoxXTHDxivf3OeWIk37mx1EPxU0VnAu7W+tVP8ckPyj6mus07VbHV7UXGm3UdxEe6HOPqO1eXMoYYYAj0IqgsN1ot4NS8PuYJ05eEfclHcEU5YeEvh0Yo15x+LVHtdFZXhvXrfxJokOoW3ylvlkjPWNx1U1q1wSi4uzO5NSV0FIyq6lXAZSMEEdaWikMwGgufDjmSxRrjSycyWy8tb+rR+q+q/l6HatrqG8tkuLWRZYnGVZTwaJrmC3XdcTRxj1dgK5SfUoLHUDceGfMvDI3+kWcEZKN6sD0U/wA62SdT1Mm1D0OwrL1620eWzE+vwQy28JzmZN6r74/rVGy1rVNahMmm2kFsgJVjcyZZT6FR0P1p91oV7fWkqajqc0wdCPJhAjQ8dD6iko8svedgcuaOiucD4uXRYPE2iXehNaC3mjkhcW20AHgrkDuc/pTquTfD3Q9F8Hz293fwRao2JFupHA2OOQAOw7VgaTqy3sQinIS5UfMp43D+8PUGvSjaUfdd7HnyvGXvaXNOiiikAVofDrQdP1e31TUdQsoblZbthC0sYb5R6Z965+d7jVLxdH0YebeT/K7DkQr3YmvW9C0iDQtFttOtvuQpgn+8e5/E1lWnyQt1ZrRhzzv0RX/4RLw//wBAez/78rR/wiXh/wD6A9n/AN+VrYorh9pPudvJHsY//CJeH/8AoD2f/flaP+ES8P8A/QHs/wDvytbFFHtJ9w5I9jH/AOES8P8A/QHs/wDvytYs3wz0W814391AghQBYrWFdiDHdsdTmuyoqlVqR2YnSg90MhijghSKFFSNFCqqjAUDoKp6tqWnafAv9qyrHHIcDcpIJq/WR4l0Ndd0prfO2RTujb0Nc9Ry5W47lSul7poWZtntUeyC+UwypUcGuV+JMcJ0GGRwPNEwCHv0OaybG+8T+G4zZmx+0xL93gkD8RUcuna/4u1CJtRiMEEZ4XGAB3riq1XVpuCi7vyMZTc48qWp1XghpG8L2/m54GFz6V0NQWNpHY2cdvEMLGuBU9d0I8sUuxvFWVgoooqhhRRRQAUUUUANf7prgfiB/wAi5qP/AF7Sf+gmu+f7tcJ4/Qnw5qP/AF7Sf+gmgD4ZrY0vwnrusN/xLdKurkZAJiiLYz0rIUgMCemea99+HnxR+HvhixkXUINQ88mNgY48jKjn+L1oAi8G/s+Sanpdvdawb+xnkQl4nt/undjHPtXt3g74WaV4RgcRyC7LsHzNCuVwMVyE/wC0t4IS2CWX9pIwPe2HT/vquL1L9o6Z7W4Gn31wspU+UWtUwD2oA938Q+M9B8MW58+/sbZ1bYUkkCYrwHxz+0DeXay2ljbWrxuskfmQzngZwDxXkviTx3rviqRzrF2s4dw5xEq8/gK5wnNAGlqmu32q3kk89xMN5B2eaxA4xWaTmiigAooooA+vvhLpFpN4M0Se9LXLfY4iqStlU+UcBen517BCUWIBSoAHAHavHfhLo+j6h4I0hiizSizi8wLM2VbaM5APFemx+FNG2D/RD/3+f/4qtHZ7t/18zNXWyRs71/vD86Ny/wB4fnWR/wAIpo3/AD6t/wB/5P8A4qj/AIRXR/8An1f/AL/yf/FUrQ7/AIf8Ed59v6+4huLObR7h73Rl8yBzunsgevqyeh9u9TS+JbEWMU1oxuZZzthgT77N3BHbHfPSszU9M0i2mWysLF7nUJBlIhcyAIP7zndwP1PaqZ+H0Fki3tpm4vwS06PK6pOD1UEHK+x5981slBpObMW5ptRR0GnaY5uf7R1aRJr0j5FBykA9F9/U1rbh6j865zTdJ0HU4GaK2mjljO2aF7iQPE3oRu/XvV3/AIRbSf8AnhL/AOBMv/xVZy5b6t/d/wAE0jzW0X4/8Au6jcw22nTzXDOIkQlzHywHcjFeW+MdJ8Lx+GVv/D+2a6vJ1jWdJixOT82efSu81DwlYTadPFZxtHM6FVeS4lKrnjJG7muA8T+ALHwl4Zt7+0kluJ4blGmkdsAgnHCjgfqa6cM4KStJ3uc+IU3F3irWCCFLe3SGMYRFCipKQEEAg5B6GlroOcKKKKAL3w9uv7P8YarpxZVt7i2W8GTgKwbafzyT+FdvL4n0tJDFDObuUdY7VDKw/Bc4rzXw9oNp4l8c3cd7G729rZLllONsm8Eex4ycHIr0OLStX0yMR6ZqUM0K/dhu7YDj0DR7cf8AfJrnrqHPdvXQ6KDnyWWxJ/aWsXX/AB46R5CnpJeShP8Ax1cn8wKP7L1W6/4/9XaNT1js4wn/AI8c/wAhR/bGpWv/ACEtFmwOsllIJl/I7W/IGprfxHpVxIIxeJFKekVwDE//AHy2DXP7y2X6nR7r3f6CQ+G9LibfJb/aZOu+4YyH9eK0kRY1CxqqqOgUYApwORkciisnJvc0UUtjJ1DSZPtJ1DSXWC9A+ZT9yceje/vS23iC0ezmkvG+xy2w/wBIhlODH/iD2I61a1HUrfTLfzbljljtjjQZaRvRR3NYU3hy41yZdU1JxaXseDZxooYQYORv/vkkDI6DtzzWsbSXv7Gcrp+4Y3iXwjJ43iN8bYWZDItuGXEjqWAZ39Btzhev8q3tX8DaNq9jBBJCYJLeMJDPCdroAMAZ7ilm8WQ6XauNfjFpdwsgdQfkkVnC+Yh7qM5I6j8id6WeGCAzTypHEoyXdgAB9TVyqVUktktiIwpu73b3POJvh34htm26frNtPGOn2qMhv0p0Hw31q6YDVtbiii/iW0jOT7ZPSt+7+JXhe0lMf9oee46iCJnH54xUlh8RPDGoTCKPU1hkPRZ1Mf6kY/WtfaYi1+X8DLkw97X/ABNHQfDWmeHLUw6ZBtLf6yVjl5D6k1q0isrqGQhlYZBByCKWuKUnJ3Z2RSirIKKKKQwooooAKKKKACiiigAIB6jNAGOlFFABRRRQAUUUUAFFFFABRRRQAjDIrA8Q6T/ammXNqTt8+Jo92OmQRn9a6CmugYc0AfLc37NIjOF1qU/9shUB/Zwb/oLyf9+hX1I1ojdRTfsMf92gD5c/4Zwb/oLyf9+hR/wzg3/QXk/79CvqP7DH/do+wx/3aAPlz/hnBv8AoLyf9+hR/wAM4N/0F5P+/Qr6j+wx/wB2j7DH/doA+XP+GcG/6C8n/foUf8M4N/0F5P8Av0K+o/sMf92j7DH/AHaAPl3/AIZwb/oLyf8AfoVNF+zV5jYbWpR/2yFfTn2GP+7TltEX+EUAcd4b8CWemeH9OsGL+fZW6QLdxHZIdqgZyPp0reU61pS/OF1W3HcYSYD+TfpWysYXpT+lWpPZ6kuK3RQsdastQby4pdk4+9BKNjj8D/Sq1/qs0102m6KFkux/rZmGUtx6n1b0X86oapHH4muDZWMS7I2xNf45j/2UPdv5VNbaTqHh+MppDpeW24sYJziTJ6kP3P1rTlitevYz5pPTp3NTTNLh0yFghaSaQ7pZ5Dl5G9Sau1l2mv2k832e4D2dz3huBtJ+h6GrV7qVnp8XmXk6RjsCeT9BWbUm9dzROKWhV1PSWmnW+02QW2oRjCvj5ZB/ccdx/LtSWev28kUi6iVsbmD/AF0MrAY9wf4gexqH+0NU1PjTLT7JCf8Al4uhgn6J1/OoLnwfb3eLi5upZ9RQho7qTnYR2C9NvtVpK1pszd73giabVptUjeDSLA3ETgq09yCkWPp1b9K4rTPhi91rGpHVpn+xDKQxoSqsxHUDPQdq7vTNVdp/7P1KNbe9QcAfclH95P8ADtWtVKrKldR0uS6calnLU8UtxcaPfPomr/JcwcROeBMnYitCvRdf8M6b4ktBDqMOWXmOVOHQ+oNcRcfD/wAQ2LEaXqUF5CPurcLhx+NdUa0J7uzOaVGcNldFGqeoagllEAAZJ5DtihXlnbsMVqxeCfFty22aeys07svzmup8OeA9P0Kf7ZO7X1//AM95udv+6O1OVWnDVu/oKNOpLS1hfAfhyXQdFeW/H/Ewvn864P8Ad/ur+AP611FFFedOTnJyZ6EIqEVFBUNxZ213GUuoI5UPUOoNTUVOxRjHwzaRHOmzXGnn0tpSq/8AfH3f0qjfX2s6NNFBFcwarNMcRwPHslI/vErwAPXFaWo6tItx/Z+lILi/YZOfuQr/AHnP9OpqXTNJTT980sjXF5LzLcP1b2HoPatlJpXnqY8qbtHQwrG4ns7xr7xJp9y12chZY18yKFfRQOR9cZNbkWvabcRM1vdRuyqT5ZO1j+Bwa0aytc0OLVtPlhjSGKaQYExjyV9x70uaMn72g+WUVpqcp4r0vQfF3h1tel1i5Szhj3gRyZVT6bT0btXHRtqXiKztjrlzI1pBGqw2+cbgBjc3qTU3iLwlB4ZvNM0a0v7ieK9dprlHOFITG35R6kmr4GBgdK9KFowXK7rp5HnyvKT5lZ9fMjhtoYECQxIijsq4ptxZW11GUuIUkX3Wp6KV3uFkRaNrl74KukIkkudEdsSwudzQZ/iX29q9cgnjubeOeBw8cihlYdCDXkssaTRPHINyOCCD3FdR8Lr6SXw9cafM25tOuGhUnqV6j+eKwxEFKPP1N8PNxlydDtqKKK4DuCiiigAooqrHqdnJfSWS3CfaYsboicNg9DinZsV0i1WHfeKbSx1yLS2Vnlkxll6LmqHihvEpvgui8WxQZIxnd3rhbWG7g8XQJqO43HmgvuOTXDWxEoyUYp77mM6jTSSPZQcjNYuveKLHQQq3BaSdhlYk649T6Vsr9wfSvPRoN7qfjqW41K3b7N5hKk9CBwK2rSmklDd/gXNyVlEtr8SUBBl0uZI/727P9K6nSdas9atfOsnyP4lPVaLvT9P/ALPkS4hiWEIc5AGBXB/D5nXX7lIc+SQfp14rLmqU6sYSd0yLyjNJu9z0uiiiuw3CiiigAooooAKKKKACiiigAqOe4htYjLcypFGOrO2APxqSuD+M2gal4m+Gd9pmi2/2i7kZCse4LnB55NAHWf2/pH/QTtP+/wAv+NH9v6R/0E7T/v8AL/jXxSfgp49H/MDb/v8AJ/jSf8KV8e/9AJv+/wAn+NAH2v8A2/pH/QTtP+/y/wCNA1/SD01O0/7/AC/418SyfBrx1FG0kmiMiKCWZp4wAPU/NXL6RpN7qXiC306xhM9y0wUKhz0PJz6e9AH6IqyuoZCCCMgjvS1meHIZbfw9ZQ3H+sjhVW+oGKv3FxDaW7z3MixRRjc7scACgB7MqIWchVUZJJ4ArBae48SOY7Nng0sHD3A4a49k9F/2vyoWG48SuJLtHt9JBylu3D3Pu/ov+z37+lWZ9esrZ/stij3twnyiC0UNt9ifur+JrVRa23/Iybvvt+ZpW9tDaW6QW0axxIMKqjgVUv8AW7HTnWKeXfO/3LeIF5H+ijmqf2PWNU5v7oadbn/lhZnMhH+1IRx/wED61oWGlWWmIy2NukRbl36u59WY8sfqaVord3Ku3srGRd2mpeIofKubaLT7Q/8APZRJMfcDop98k+1RQ+FJdJuBdaRcfaJQACmoHzM/7r9V/I109FP2kkrLYXs4t3e5jxeIYoZFh1iB9NmY4Bm/1bn/AGXHH4dfatcEMAVOQehFJLFHNG0cyLIjDDKwyCPpWOfD7WTb9Au3se/2Zh5kDf8AAD93/gJFT7r8h+8vMv6lpsGp24jnyrqd0cqHDRt6g1nW+rzabL9i13CyAEw3IGEnAHT2b2/KnDXZrE7NesmtR/z8w5khP1OMr+Ix71j6sNP8dx3mkwaxLbfZSC6wlGWReofpkj6EVpGL2lt3M5SW8dzqdPvodT06C9tW3QzoHU/Ws7UvF+gaRIY7/VLeOResYfcw+oHNeUWl5qv9nyeHNN1V/wCyLWZlN5Eux5gf4F5OBnPPfNWbXSLCzUCG1jz3ZhuY/ia6PqsU/eZh9Zk1oj0W1+IHhe8lEcWrwKx4HmZTP54roY5EljDxOrowyGU5Brx6awtLhSs1tE490FR6fe6l4Pn+06NI89gDmewkYkY7lPQ0pYaLXuPXzHHESXxrTyPZ6Kp6RqtrrelQahYPvhmXI9Qe4PuKtswRSzkKqjJJOABXE007M7E01dC1iXWpXGpXL6fobAFDtuLwjKQ+w/vN7du9Rvc3HiNzDp7vb6YDiS6Xh5/9mP0H+1+XrWtGlnpNiqJ5VrbRDjJCqv4mrty77kX5tthunabb6ZbeVbKcsd0kjnLSN6se5q3WM3iJbk7NGs59Rb/noo8uIf8AA26j/dBpP7O1fUOdS1EWkR/5YWAwfoZG5P4BaHF3vJgpLaJdv9XsNNA+2XKRs33Uzlm+ijk1yvi241fVNDmuNGtbuxa3UyRzyP5bSf7Ij5Jz7gV1Vho+n6aS1nbIkjfelPzSN9WOSfxNXacZxg7pXFKMpqzdjxXVNM1nTNY0K48SXrXV1dwyrhsfucYO3I6nmr9dr478PSeIPD2LLAv7NxcWx9WHVfxH64rz7Tr9L6AnBjmjO2WJuGRu4IrvhP2kObscM4eznbuXKKKKokKu/DzR11M6xdtc3MKG8KL5Em0Ngdaw9Ru5FMdlYIZtQujsgiXrk/xH0Ar1LwroSeHfDttp6nc6Lulf+855J/Os60uSn5s0ox56nkhP+Eai/wCgjqP/AIEf/Wo/4RqL/oI6j/4Ef/WrZorg9pLud3JHsY3/AAjUX/QR1H/wI/8ArUf8I1F/0EdR/wDAj/61bNFHtJdw5I9jG/4RqL/oI6j/AOBH/wBauYvfhvLqfisahNqVxBbQKqxlZMzPjk/N/COa9Aoqo1px2ZMqMJboZDGIYUjDMwRQu5jkn615lrX/ACUof9dU/lXqFeX61/yUof8AXVP5V52L2j/iRNbZep6ev3B9KWmgZiwODivOdE1i60nxlcWmr3kxiZmUedIWA54PPTitqlVU5RT6mkpqLV+pPrXhXxFctMy3zTxMxIi3kcemKZ4C1GK0vpNMuLcRzkn5+5I7Gu8nv7S3tzPPcRpEBncWGK820POrePZby1UiHzWfOO1ck4RpVouG7/IxlFQmnHqeo0UUV6J0hRRRQAUUUUAFFFFABRRRQAUEZ60UUAN8tP7o/Kjy0/uj8qdXN+P/ABhbeBvBV/rl1tLQptgjJ/1sp4Vfz6+wNAHj/wC0d8TRp1t/wh2hyAXM6hr6RDyiHpH9T1PtirXwA+GC6Rpi69q0P+m3SgqGH+rTsPrXknwu8OXnxL+Jkmp6wWuI0l+03TtzvcnIH+fSvs6ztY7O1SGJQqqMYFAGZ4h8U6V4WtUk1OUrv4jjQZZvoK5nTfEieMLr7RbW8l6IHzDZZ2xxHJw8p7njIGOPrWX8WvCeqapeW+p6bFJdRpH5bxIMlOeuKZ8MvBOq2aXV7qMt1pomUIkcbbWbBzkj0r0I06UaPPfU4JVKsq3JbQ7z+xrzUedbvSYz/wAuttlI/oT1b8eK1bW0t7KERWkKQxr0VFwKzf7Ak/6DGo/9/h/hR/YMv/QZ1H/v6P8ACuRtPqdSTXQ2KKx/7Bl/6DOo/wDf0f4Uf2DL/wBBnUf+/o/wqeWPcq8uxsUVj/2FN/0GdQ/7+D/Cj+wZ/wDoM6h/38H+FHLHuHNLsbFFY/8AYU//AEGdQ/7+D/Cj+wp/+g1qH/fY/wAKOWPcOaXY0b6SOKyleaYQIF5kIB2+/NeVeLPCdn4c0uXWtM1a7kvbuQRK4dcOHOG6D0rudV8P3kuk3McGpXtxI8ZVYnkADE8c8dK851zwZf8AhbwzZ3N9qUlykd2hkgBzHHnjjNdmGsnpL5dzkxF2tY/PsT2dqllZxW8Qwsa4+p7mp6KK33MNgpOvWlooAvfD7U49G1jWNLupRFZ+UL6MsfljGQrfmSPyrbudah1ufbcGT7CDlLKBd0tx7vj7q/7JP1rkvDui2ev/ABClhv0MsEFgHZAxALeYMA/nnFesWtlbWUey0gjhX/YXGa567hGd+p0UFKULdDLRtavECW0MOlW4GAXG+THsOg/WpYfDlmJVmvmkv515Ely27B9h0H4VrUVyc76aHVyLrqIqhRhQAPQClooqCwooooAK5LxL4CtdZuTf6fMdP1HvLGPlk/3h3rraKuE5Qd4kThGatI8mm8NeMLJthsra9XtJFJtJ+op0HhTxfqDBXhtdOjPWRm3sPwr1eiuj61LsjD6tHuzm/DHgqw8OFrjc13fyDEl1Ly30HoK6SiiuaUpTd5HRGKirRCiiipKCiiigAooooAK5678I2t3rw1RpXEgYNt7cV0NFTKMZfEhNJ7gBgAVh674VsddIkmBjnAwJE61uUUSjGatJXQNJqzOFX4bR7v3l/KyeldRo+h2eiweXaJgnqx6mtKiohRp03eKJjCMdkFFFFalhRRRQAUUUUAFFFFABRRRQAUUUUAFfKH7TvjRtV8W2/hi0lza6WoknAPDTMOM/RSP++jX1FrWpw6Nod5qVy22K1haV29ABmvhjw5bz+P8A4sWxvfnbUb83E4IyNuS7D6YGKAPp/wCA3g0eGvAltNPFtu7sefLkcgt0H4DA/CvVarafbLaWMUKDAVQKs0AFFFFABRRRQAUUUUAFFFFABRRRQAVmeItHj17QLrTpePOT5Gx91ux/OtOimm4u6E0mrM8U02eVGk07UFMV/Zny5Y26nHRh6g1oV2/inwVZeJNlwsjWeoxDEV3EOR7MP4hXEXHh7xfpjFJNOh1NB0ltpQhI9we/0r041IVNU7PsedKnOGlroKr3t5FY2rTzthVHA7k+gqSLTfFd22y38PmAn/lpcTrtH4Dmuk8P/DryryPUfE1wt/dRnMcCjEMR+nc/WnKUIayYoxnPSKLHw40Kew0y41XUU2XmpsJCh6xxj7o+vOfyrs6KK82pNzk5M9CEFCKigoooqCwooooAKKKKACiiigAooooAKKKKACiiigAooooAKKKKACiiigAooooAKKKKACiiigAooooAKKKKACiiigAooooAKKKKAPMf2gtUl0/4R6hDbBzNesluAgJJUn5v0zXin7Nnh+W58e3N/cQuq2lvtXepHzMev5Kfzr6zurO3vYfKuoklT0dc1BZ6PY6e5azto4i3UooGaALoGBRRRQAUUUUAFFFFABRRRQAUUUUAFFFFABRRRQAUUUUAFFFFABRRRQAUUUUAFFFFABRRRQAUUUUAFFFFABRRRQAUUUUAFFFFABRRRQAUUUUAFFFFABRRRQAUUUUAFFFFABRRRQAUUUUAFFFFABRRRQAUUUUAFFFFABRRRQAUUUUAFFFFABRRRQAUUUUAFFFFABRRRQAUUUUAFFFFABRRRQAUUUUAFFFFABRRRQAUUUUAFFFFABRRRQAUUUUAFFFFABRRRQAUUUUAFFFFABRRRQAUUUUAf//Z)\n"
      ]
    },
    {
      "cell_type": "markdown",
      "metadata": {
        "id": "4H7StXVbNpcK"
      },
      "source": [
        "## Lets start with DataSet and Data Loader creation.."
      ]
    },
    {
      "cell_type": "code",
      "metadata": {
        "id": "azUC4K-pNms1"
      },
      "source": [
        "import torch\n",
        "from torchvision import datasets\n",
        "import torchvision.transforms as transforms"
      ],
      "execution_count": 3,
      "outputs": []
    },
    {
      "cell_type": "code",
      "metadata": {
        "colab": {
          "base_uri": "https://localhost:8080/",
          "height": 471,
          "referenced_widgets": [
            "10f430af1284492f8e557f96991aa9ef",
            "f33579867d4f4bde94430e741cbca784",
            "ee7e53cd3ffd45148ef80835906eed9d",
            "8dd389352d5048f293f0863881c97b86",
            "3166aa15713f40bfa04215cd1d60c39e",
            "b2f731d116584237ae5868dc9a816f40",
            "2a5e5153c4294d289c6701ff5f88406c",
            "c1d2ceb086ee431897c970eec455b023",
            "d2f31519167a4e3d888f360b034405c4",
            "4ce8bb65896f47a68b3d11f0272f8f80",
            "700b46b06cba4d27b32f7c3d69ae8102",
            "2571528c273f4595835c689526239380",
            "243e0a9b3b064d74b8e1b5ebc3e0f69f",
            "834b102cd3df42ba81e47e2b1ee8fb57",
            "36176f68938a4654b8fd6c589b87d274",
            "2505289878da4c2aa386ea73746bb5eb",
            "d12911fc040c4545bcbff28dfffed465",
            "3206d58c0bd14ba4a46b28884fbf0815",
            "fc577d2999be47428c3635d02636f825",
            "96857ca4893a495b81855a50f0f2657d",
            "e0cbf0895a374ca496eaf820a37f7369",
            "4125af10a4e04abda06abdd1c4e8fb5f",
            "88d4851291594cada30c7a0b3715c171",
            "df4a803fd82f4031a90fdbffe79e6ac4",
            "eeec73157e0d4dc8abaa60ae2cd95bce",
            "e0998bae524b4fa0ac3eb6e28cb1c1e0",
            "515cf86aa6064d0dbe24ee0bdc1246bb",
            "79d747f642c049a3ba24c5e33875223b",
            "a29b0a8f634f4ee5854a2dd738a31ea6",
            "37ee67db20774da69e1ea44398465f3a",
            "6147f2056deb40a28bf4dd9bd705fdc9",
            "4f66e84f249946e288347405369e35dc",
            "af7b5b2279be45b8bf12351ab4bbde1a",
            "fe2defb7116f482f9b4656e25e6c0922",
            "ae7e2179eab841f7b30ed43ab05a9bff",
            "f68c7deef4ee4a9fa799df5c03339236",
            "fda0b14ec9604ec2888b8287070849a9",
            "29d28ea69cef4bf2846f3028b5b56def",
            "d39503af72014e679d68190818176e65",
            "13512898130b4db5bad2ed89bb2bcda9",
            "50454867d1a147c49c95b2616c80706c",
            "bbc32d9a980d45ffa6d24096d36b2eb9",
            "4918a4b234364c1dabcfd575f3383aee",
            "3aedc0e53588446481e1fd083c32e856"
          ]
        },
        "id": "1Ku5FREoQVvZ",
        "outputId": "fef83829-36db-4636-9d4e-854371b9f007"
      },
      "source": [
        "train_data = datasets.MNIST(root = './data', \n",
        "               download=True, \n",
        "               transform = transforms.Compose([transforms.ToTensor()]),\n",
        "               train = True)"
      ],
      "execution_count": 5,
      "outputs": [
        {
          "output_type": "stream",
          "name": "stdout",
          "text": [
            "Downloading http://yann.lecun.com/exdb/mnist/train-images-idx3-ubyte.gz\n",
            "Downloading http://yann.lecun.com/exdb/mnist/train-images-idx3-ubyte.gz to ./data/MNIST/raw/train-images-idx3-ubyte.gz\n"
          ]
        },
        {
          "output_type": "display_data",
          "data": {
            "application/vnd.jupyter.widget-view+json": {
              "model_id": "10f430af1284492f8e557f96991aa9ef",
              "version_minor": 0,
              "version_major": 2
            },
            "text/plain": [
              "  0%|          | 0/9912422 [00:00<?, ?it/s]"
            ]
          },
          "metadata": {}
        },
        {
          "output_type": "stream",
          "name": "stdout",
          "text": [
            "Extracting ./data/MNIST/raw/train-images-idx3-ubyte.gz to ./data/MNIST/raw\n",
            "\n",
            "Downloading http://yann.lecun.com/exdb/mnist/train-labels-idx1-ubyte.gz\n",
            "Downloading http://yann.lecun.com/exdb/mnist/train-labels-idx1-ubyte.gz to ./data/MNIST/raw/train-labels-idx1-ubyte.gz\n"
          ]
        },
        {
          "output_type": "display_data",
          "data": {
            "application/vnd.jupyter.widget-view+json": {
              "model_id": "2571528c273f4595835c689526239380",
              "version_minor": 0,
              "version_major": 2
            },
            "text/plain": [
              "  0%|          | 0/28881 [00:00<?, ?it/s]"
            ]
          },
          "metadata": {}
        },
        {
          "output_type": "stream",
          "name": "stdout",
          "text": [
            "Extracting ./data/MNIST/raw/train-labels-idx1-ubyte.gz to ./data/MNIST/raw\n",
            "\n",
            "Downloading http://yann.lecun.com/exdb/mnist/t10k-images-idx3-ubyte.gz\n",
            "Downloading http://yann.lecun.com/exdb/mnist/t10k-images-idx3-ubyte.gz to ./data/MNIST/raw/t10k-images-idx3-ubyte.gz\n"
          ]
        },
        {
          "output_type": "display_data",
          "data": {
            "application/vnd.jupyter.widget-view+json": {
              "model_id": "88d4851291594cada30c7a0b3715c171",
              "version_minor": 0,
              "version_major": 2
            },
            "text/plain": [
              "  0%|          | 0/1648877 [00:00<?, ?it/s]"
            ]
          },
          "metadata": {}
        },
        {
          "output_type": "stream",
          "name": "stdout",
          "text": [
            "Extracting ./data/MNIST/raw/t10k-images-idx3-ubyte.gz to ./data/MNIST/raw\n",
            "\n",
            "Downloading http://yann.lecun.com/exdb/mnist/t10k-labels-idx1-ubyte.gz\n",
            "Downloading http://yann.lecun.com/exdb/mnist/t10k-labels-idx1-ubyte.gz to ./data/MNIST/raw/t10k-labels-idx1-ubyte.gz\n"
          ]
        },
        {
          "output_type": "display_data",
          "data": {
            "application/vnd.jupyter.widget-view+json": {
              "model_id": "fe2defb7116f482f9b4656e25e6c0922",
              "version_minor": 0,
              "version_major": 2
            },
            "text/plain": [
              "  0%|          | 0/4542 [00:00<?, ?it/s]"
            ]
          },
          "metadata": {}
        },
        {
          "output_type": "stream",
          "name": "stdout",
          "text": [
            "Extracting ./data/MNIST/raw/t10k-labels-idx1-ubyte.gz to ./data/MNIST/raw\n",
            "\n"
          ]
        },
        {
          "output_type": "stream",
          "name": "stderr",
          "text": [
            "/usr/local/lib/python3.7/dist-packages/torchvision/datasets/mnist.py:498: UserWarning: The given NumPy array is not writeable, and PyTorch does not support non-writeable tensors. This means you can write to the underlying (supposedly non-writeable) NumPy array using the tensor. You may want to copy the array to protect its data or make it writeable before converting it to a tensor. This type of warning will be suppressed for the rest of this program. (Triggered internally at  /pytorch/torch/csrc/utils/tensor_numpy.cpp:180.)\n",
            "  return torch.from_numpy(parsed.astype(m[2], copy=False)).view(*s)\n"
          ]
        }
      ]
    },
    {
      "cell_type": "code",
      "metadata": {
        "id": "YgFnucQbRv4s"
      },
      "source": [
        "train_loader = torch.utils.data.DataLoader(train_data\n",
        "    ,batch_size=32\n",
        "    ,shuffle=True\n",
        ")"
      ],
      "execution_count": 9,
      "outputs": []
    },
    {
      "cell_type": "code",
      "metadata": {
        "colab": {
          "base_uri": "https://localhost:8080/"
        },
        "id": "ByN8PMuTs41Z",
        "outputId": "679436b9-bc34-4199-c6cb-b912ecc1b16c"
      },
      "source": [
        "import random\n",
        "\n",
        "print(random.randrange(0,9))"
      ],
      "execution_count": 47,
      "outputs": [
        {
          "output_type": "stream",
          "name": "stdout",
          "text": [
            "8\n"
          ]
        }
      ]
    },
    {
      "cell_type": "code",
      "metadata": {
        "id": "ngVmOihHnidg"
      },
      "source": [
        "from torch.utils.data import Dataset\n",
        "from torchvision.datasets import MNIST\n",
        "from PIL import Image\n",
        "import random as r\n",
        "from typing import Any, Callable, Dict, List, Optional, Tuple"
      ],
      "execution_count": 54,
      "outputs": []
    },
    {
      "cell_type": "code",
      "metadata": {
        "id": "3E19TBz_oqoO"
      },
      "source": [
        "class MyDataset(MNIST):\n",
        "  def __init__(\n",
        "      self,\n",
        "            root: str,\n",
        "            train: bool = True,\n",
        "            transform: Optional[Callable] = None,\n",
        "            target_transform: Optional[Callable] = None,\n",
        "            download: bool = False,\n",
        "    )-> None :\n",
        "    super(MyDataset, self).__init__(root, transform=transform, \n",
        "                                    target_transform = target_transform,\n",
        "                                    download = download,\n",
        "                                    train = train)\n",
        "   \n",
        "  def __getitem__(self, index):\n",
        "    \n",
        "    img, target = self.data[index], int(self.targets[index])\n",
        "\n",
        "    # doing this so that it is consistent with all other datasets\n",
        "    # to return a PIL Image\n",
        "    img = Image.fromarray(img.numpy(), mode='L')\n",
        "\n",
        "    rand_input = r.randrange(0,9)\n",
        "\n",
        "    rand_sum = rand_input + int(target)\n",
        "\n",
        "\n",
        "    if self.transform is not None:\n",
        "        img = self.transform(img)\n",
        "\n",
        "    if self.target_transform is not None:\n",
        "        target = self.target_transform(target)\n",
        "\n",
        "    return img, target, rand_input, rand_sum\n",
        "\n",
        "  def __len__(self):\n",
        "    return len(self.data)"
      ],
      "execution_count": 61,
      "outputs": []
    },
    {
      "cell_type": "code",
      "metadata": {
        "id": "CKEbqRupvSyf"
      },
      "source": [
        "train_data = MyDataset(root = './data', \n",
        "               download=True, \n",
        "               transform = transforms.Compose([transforms.ToTensor()]),\n",
        "               train = True)"
      ],
      "execution_count": 62,
      "outputs": []
    },
    {
      "cell_type": "code",
      "metadata": {
        "colab": {
          "base_uri": "https://localhost:8080/",
          "height": 450
        },
        "id": "P-8noCXvSlaM",
        "outputId": "dd31de98-5bdb-47f2-9afa-3febba9ce11c"
      },
      "source": [
        "# Data visualization\n",
        "\n",
        "import matplotlib.pyplot as plt\n",
        "\n",
        "figure = plt.figure(figsize=(10, 8))\n",
        "cols, rows = 5, 3\n",
        "for i in range(1, cols * rows + 1):\n",
        "    sample_idx = torch.randint(len(train_data), size=(1,)).item()\n",
        "    img, label, ran_input, ran_sum = train_data[sample_idx]\n",
        "    figure.add_subplot(rows, cols, i)\n",
        "    plt.title(str(label) +':' + str(ran_input) + ':' + str(ran_sum))\n",
        "    plt.axis(\"off\")\n",
        "    plt.imshow(img.squeeze(), cmap=\"gray\")\n",
        "plt.show()"
      ],
      "execution_count": 63,
      "outputs": [
        {
          "output_type": "display_data",
          "data": {
            "image/png": "[encoded data removed]",
            "text/plain": [
              "<Figure size 720x576 with 15 Axes>"
            ]
          },
          "metadata": {
            "needs_background": "light"
          }
        }
      ]
    },
    {
      "cell_type": "markdown",
      "metadata": {
        "id": "ptdGxNN9XXYi"
      },
      "source": [
        "## Lets Define the model \n",
        "\n",
        "We are looking something following logically\n",
        "\n",
        "\n",
        "![image.png](data:image/png;base64,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)"
      ]
    },
    {
      "cell_type": "code",
      "metadata": {
        "id": "H1RhmT6BYe6U"
      },
      "source": [
        "import torch.nn as nn"
      ],
      "execution_count": 12,
      "outputs": []
    },
    {
      "cell_type": "code",
      "metadata": {
        "id": "B6xwhrOzTAMF"
      },
      "source": [
        "class CustomCNN(nn.Module):\n",
        "  def __init__(self):\n",
        "    super().__init__()\n",
        "    self.conv1 = nn.Conv2d(in_channels=1, out_channels=6, kernel_size=5) \n",
        "    self.conv2 = nn.Conv2d(in_channels=6, out_channels=12, kernel_size=5)\n",
        "    self.fc1 = nn.Linear(in_features=212, out_features=212)\n",
        "    self.fc2 = nn.Linear(in_features=212, out_features=100)\n",
        "    self.fc3 = nn.Linear(in_features=100, out_features=29)\n",
        "    self.preprocess_rand1 = nn.Linear(in_features = 10, out_features=20)\n",
        "    self.out = nn.Linear(in_features=60, out_features=10)\n",
        "  \n",
        "  def forward(self, t):\n",
        "    # input layer, t will have [image, img_label, ran_input, rand_sum]\n",
        "    x = t[0]\n",
        "    rand_input = t[2] \n",
        "    # conv1 layer\n",
        "    x = self.conv1(x)\n",
        "    x = F.relu(x)\n",
        "    x = F.max_pool2d(x, kernel_size=2, stride=2) # 28 | 24 | 12\n",
        "\n",
        "    # conv2 layer\n",
        "    x = self.conv2(x)\n",
        "    x = F.relu(x)\n",
        "    x = F.max_pool2d(x, kernel_size=2, stride=2) # 12 | 8 | 4 >> 12x4x4\n",
        "\n",
        "    # reshape\n",
        "    x = x.reshape(-1, 12 * 4 * 4)\n",
        "\n",
        "    # preprocess the random input\n",
        "    y = self.preprocess_rand1(rand_input)    \n",
        "    y = F.relu(y)\n",
        "\n",
        "    # Concate two inputs from Fc1 and rand_input\n",
        "    x1 = torch.cat((x, y), dim=1)\n",
        "\n",
        "     # fc1 layer\n",
        "    x1 = self.fc1(x1)\n",
        "    x1 = F.relu(x1)\n",
        "\n",
        "\n",
        "    # fc2 layer\n",
        "    x1 = self.fc2(x1)\n",
        "    x1 = F.relu(x1)\n",
        "    \n",
        "    # fc3 layer\n",
        "    x1 = self.fc3(x1)\n",
        "    x1 = F.relu(x1)\n",
        "\n",
        "    # output layer  \n",
        "    x1 = self.out(x1)\n",
        "    x1 = F.softmax(x1, dim=1)\n",
        "    return x1"
      ],
      "execution_count": 64,
      "outputs": []
    },
    {
      "cell_type": "code",
      "metadata": {
        "colab": {
          "base_uri": "https://localhost:8080/"
        },
        "id": "JPWvrCGQatEY",
        "outputId": "4cca2467-47fe-4c9f-90e1-447e1955bee2"
      },
      "source": [
        "cnn = CustomCNN()\n",
        "loss = nn.CrossEntropyLoss()\n",
        "\n",
        "print(cnn)\n",
        "print(loss)"
      ],
      "execution_count": 32,
      "outputs": [
        {
          "output_type": "stream",
          "name": "stdout",
          "text": [
            "CustomCNN(\n",
            "  (conv1): Conv2d(1, 6, kernel_size=(5, 5), stride=(1, 1))\n",
            "  (conv2): Conv2d(6, 12, kernel_size=(5, 5), stride=(1, 1))\n",
            "  (fc1): Linear(in_features=192, out_features=120, bias=True)\n",
            "  (fc2): Linear(in_features=120, out_features=60, bias=True)\n",
            "  (out): Linear(in_features=60, out_features=10, bias=True)\n",
            ")\n",
            "CrossEntropyLoss()\n"
          ]
        }
      ]
    },
    {
      "cell_type": "code",
      "metadata": {
        "id": "W1QhQf2gazGV"
      },
      "source": [
        "from torch import optim\n",
        "import torch.nn.functional as F\n",
        "\n",
        "optimizer = optim.Adam(cnn.parameters(), lr = 0.01)\n"
      ],
      "execution_count": 33,
      "outputs": []
    },
    {
      "cell_type": "code",
      "metadata": {
        "id": "QZsypgDNfGHm"
      },
      "source": [
        "def get_num_correct(preds, labels):\n",
        "  return preds.argmax(dim=1).eq(labels).sum().item()"
      ],
      "execution_count": 34,
      "outputs": []
    },
    {
      "cell_type": "code",
      "metadata": {
        "id": "OT-2ANQmhWb-"
      },
      "source": [
        "train_loader = torch.utils.data.DataLoader(train_data\n",
        "    ,batch_size=100\n",
        "    ,shuffle=True\n",
        ")"
      ],
      "execution_count": 36,
      "outputs": []
    },
    {
      "cell_type": "code",
      "metadata": {
        "colab": {
          "base_uri": "https://localhost:8080/"
        },
        "id": "s89eaHbhdXuZ",
        "outputId": "57587856-068e-4225-eb19-2ca58ec72e45"
      },
      "source": [
        "# train_loader = torch.utils.data.DataLoader(train_set, batch_size=100)\n",
        "\n",
        "for epoch in range(10):\n",
        "\n",
        "    total_loss = 0\n",
        "    total_correct = 0\n",
        "\n",
        "    for batch in train_loader: # Get Batch\n",
        "        images, labels = batch \n",
        "\n",
        "        preds = cnn(images) # Pass Batch\n",
        "        loss = F.cross_entropy(preds, labels) # Calculate Loss\n",
        "\n",
        "        optimizer.zero_grad()\n",
        "        loss.backward() # Calculate Gradients\n",
        "        optimizer.step() # Update Weights\n",
        "\n",
        "        total_loss += loss.item()\n",
        "        total_correct += get_num_correct(preds, labels)\n",
        "\n",
        "    print(\n",
        "        \"epoch\", epoch, \n",
        "        \"total_correct:\", total_correct, \n",
        "        \"loss:\", total_loss\n",
        "    )"
      ],
      "execution_count": 37,
      "outputs": [
        {
          "output_type": "stream",
          "name": "stdout",
          "text": [
            "epoch 0 total_correct: 6742 loss: 1409.2703123092651\n",
            "epoch 1 total_correct: 6742 loss: 1409.2703087329865\n",
            "epoch 2 total_correct: 6742 loss: 1409.2703080177307\n",
            "epoch 3 total_correct: 6742 loss: 1409.2703156471252\n",
            "epoch 4 total_correct: 6742 loss: 1409.2703170776367\n",
            "epoch 5 total_correct: 6742 loss: 1409.2703123092651\n",
            "epoch 6 total_correct: 6742 loss: 1409.2703127861023\n",
            "epoch 7 total_correct: 6742 loss: 1409.2703132629395\n",
            "epoch 8 total_correct: 6742 loss: 1409.2703115940094\n",
            "epoch 9 total_correct: 6742 loss: 1409.270314693451\n"
          ]
        }
      ]
    },
    {
      "cell_type": "code",
      "metadata": {
        "id": "k7amxtuednzC"
      },
      "source": [
        ""
      ],
      "execution_count": null,
      "outputs": []
    }
  ]
}